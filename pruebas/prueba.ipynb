{
  "nbformat": 4,
  "nbformat_minor": 0,
  "metadata": {
    "colab": {
      "provenance": [],
      "authorship_tag": "ABX9TyNkugnYbR6ifjWMANhLmECC",
      "include_colab_link": true
    },
    "kernelspec": {
      "name": "python3",
      "display_name": "Python 3"
    },
    "language_info": {
      "name": "python"
    }
  },
  "cells": [
    {
      "cell_type": "markdown",
      "metadata": {
        "id": "view-in-github",
        "colab_type": "text"
      },
      "source": [
        "<a href=\"https://colab.research.google.com/github/peronvidal/guias-iia-lcd-unsam/blob/dev/pruebas/prueba.ipynb\" target=\"_parent\"><img src=\"https://colab.research.google.com/assets/colab-badge.svg\" alt=\"Open In Colab\"/></a>"
      ]
    },
    {
      "cell_type": "code",
      "execution_count": null,
      "metadata": {
        "id": "fEZ5hY3bc1_7"
      },
      "outputs": [],
      "source": [
        "!pip install colabcode\n",
        "from colabcode import ColabCode"
      ]
    },
    {
      "cell_type": "code",
      "source": [
        "ColabCode?"
      ],
      "metadata": {
        "id": "TrC2tMiTc7rw"
      },
      "execution_count": 5,
      "outputs": []
    },
    {
      "cell_type": "code",
      "source": [],
      "metadata": {
        "id": "owi-Mc5Xdgfm"
      },
      "execution_count": null,
      "outputs": []
    }
  ]
}