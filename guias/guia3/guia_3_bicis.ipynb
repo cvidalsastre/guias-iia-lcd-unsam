{
 "cells": [
  {
   "cell_type": "code",
   "execution_count": 2,
   "metadata": {},
   "outputs": [],
   "source": [
    "import numpy as np\n",
    "import matplotlib.pyplot as plt\n",
    "import pandas as pd\n",
    "from sklearn.linear_model import LogisticRegression\n",
    "from sklearn.metrics import accuracy_score\n",
    "import seaborn as sns\n"
   ]
  },
  {
   "cell_type": "code",
   "execution_count": 5,
   "metadata": {},
   "outputs": [],
   "source": [
    "df = pd.read_csv('../guia1/recorridos-realizados-2018.zip')\n"
   ]
  },
  {
   "cell_type": "code",
   "execution_count": 9,
   "metadata": {},
   "outputs": [
    {
     "data": {
      "text/plain": [
       "Index(['periodo', 'id_usuario', 'genero_usuario', 'fecha_origen_recorrido',\n",
       "       'id_estacion_origen', 'nombre_estacion_origen', 'long_estacion_origen',\n",
       "       'lat_estacion_origen', 'domicilio_estacion_origen',\n",
       "       'duracion_recorrido', 'fecha_destino_recorrido', 'id_estacion_destino',\n",
       "       'nombre_estacion_destino', 'long_estacion_destino',\n",
       "       'lat_estacion_destino', 'domicilio_estacion_destino'],\n",
       "      dtype='object')"
      ]
     },
     "execution_count": 9,
     "metadata": {},
     "output_type": "execute_result"
    }
   ],
   "source": [
    "df.columns"
   ]
  },
  {
   "cell_type": "code",
   "execution_count": 24,
   "metadata": {},
   "outputs": [],
   "source": [
    "# Tu turno...\n",
    "classifier = LogisticRegression()\n",
    "\n",
    "X = df.iloc[:, [5]]\n",
    "nombre_estacion_origen = pd.get_dummies(df['nombre_estacion_origen'], drop_first=True)\n",
    "X = pd.concat([X,nombre_estacion_origen])\n",
    "X\n",
    "# y = df['genero_usuario']\n",
    "# classifier.fit(X, y)\n",
    "# y_pred = classifier.predict(X)\n",
    "# result = pd.DataFrame({'y': y, 'y_pred': y_pred})\n",
    "# result\n"
   ]
  },
  {
   "cell_type": "code",
   "execution_count": null,
   "metadata": {},
   "outputs": [],
   "source": [
    "nombre_estacion_origen\n"
   ]
  },
  {
   "cell_type": "code",
   "execution_count": 22,
   "metadata": {},
   "outputs": [
    {
     "data": {
      "text/html": [
       "<div>\n",
       "<style scoped>\n",
       "    .dataframe tbody tr th:only-of-type {\n",
       "        vertical-align: middle;\n",
       "    }\n",
       "\n",
       "    .dataframe tbody tr th {\n",
       "        vertical-align: top;\n",
       "    }\n",
       "\n",
       "    .dataframe thead th {\n",
       "        text-align: right;\n",
       "    }\n",
       "</style>\n",
       "<table border=\"1\" class=\"dataframe\">\n",
       "  <thead>\n",
       "    <tr style=\"text-align: right;\">\n",
       "      <th></th>\n",
       "      <th>nombre_estacion_origen</th>\n",
       "      <th>duracion_recorrido</th>\n",
       "    </tr>\n",
       "  </thead>\n",
       "  <tbody>\n",
       "    <tr>\n",
       "      <th>0</th>\n",
       "      <td>Uruguay</td>\n",
       "      <td>0 days 00:19:53.000000000</td>\n",
       "    </tr>\n",
       "    <tr>\n",
       "      <th>1</th>\n",
       "      <td>Posadas</td>\n",
       "      <td>0 days 00:26:19.000000000</td>\n",
       "    </tr>\n",
       "    <tr>\n",
       "      <th>2</th>\n",
       "      <td>Hospital Rivadavia</td>\n",
       "      <td>0 days 00:27:39.000000000</td>\n",
       "    </tr>\n",
       "    <tr>\n",
       "      <th>3</th>\n",
       "      <td>Macacha Güemes</td>\n",
       "      <td>0 days 00:48:51.000000000</td>\n",
       "    </tr>\n",
       "    <tr>\n",
       "      <th>4</th>\n",
       "      <td>Macacha Güemes</td>\n",
       "      <td>0 days 00:49:27.000000000</td>\n",
       "    </tr>\n",
       "    <tr>\n",
       "      <th>...</th>\n",
       "      <td>...</td>\n",
       "      <td>...</td>\n",
       "    </tr>\n",
       "    <tr>\n",
       "      <th>2619963</th>\n",
       "      <td>Plaza Primero de Mayo</td>\n",
       "      <td>0 days 00:07:15.000000000</td>\n",
       "    </tr>\n",
       "    <tr>\n",
       "      <th>2619964</th>\n",
       "      <td>Virrey Liniers</td>\n",
       "      <td>0 days 00:09:59.000000000</td>\n",
       "    </tr>\n",
       "    <tr>\n",
       "      <th>2619965</th>\n",
       "      <td>Peña</td>\n",
       "      <td>0 days 00:10:32.000000000</td>\n",
       "    </tr>\n",
       "    <tr>\n",
       "      <th>2619966</th>\n",
       "      <td>Sánchez de Bustamante</td>\n",
       "      <td>0 days 00:09:57.000000000</td>\n",
       "    </tr>\n",
       "    <tr>\n",
       "      <th>2619967</th>\n",
       "      <td>Parque Lezama</td>\n",
       "      <td>0 days 00:10:26.000000000</td>\n",
       "    </tr>\n",
       "  </tbody>\n",
       "</table>\n",
       "<p>2619968 rows × 2 columns</p>\n",
       "</div>"
      ],
      "text/plain": [
       "        nombre_estacion_origen         duracion_recorrido\n",
       "0                      Uruguay  0 days 00:19:53.000000000\n",
       "1                      Posadas  0 days 00:26:19.000000000\n",
       "2           Hospital Rivadavia  0 days 00:27:39.000000000\n",
       "3               Macacha Güemes  0 days 00:48:51.000000000\n",
       "4               Macacha Güemes  0 days 00:49:27.000000000\n",
       "...                        ...                        ...\n",
       "2619963  Plaza Primero de Mayo  0 days 00:07:15.000000000\n",
       "2619964         Virrey Liniers  0 days 00:09:59.000000000\n",
       "2619965                   Peña  0 days 00:10:32.000000000\n",
       "2619966  Sánchez de Bustamante  0 days 00:09:57.000000000\n",
       "2619967          Parque Lezama  0 days 00:10:26.000000000\n",
       "\n",
       "[2619968 rows x 2 columns]"
      ]
     },
     "execution_count": 22,
     "metadata": {},
     "output_type": "execute_result"
    }
   ],
   "source": [
    "X"
   ]
  },
  {
   "cell_type": "code",
   "execution_count": null,
   "metadata": {},
   "outputs": [],
   "source": []
  }
 ],
 "metadata": {
  "kernelspec": {
   "display_name": ".venv",
   "language": "python",
   "name": "python3"
  },
  "language_info": {
   "codemirror_mode": {
    "name": "ipython",
    "version": 3
   },
   "file_extension": ".py",
   "mimetype": "text/x-python",
   "name": "python",
   "nbconvert_exporter": "python",
   "pygments_lexer": "ipython3",
   "version": "3.10.10"
  },
  "orig_nbformat": 4
 },
 "nbformat": 4,
 "nbformat_minor": 2
}
