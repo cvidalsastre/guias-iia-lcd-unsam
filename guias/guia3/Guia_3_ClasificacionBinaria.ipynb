{
  "cells": [
    {
      "cell_type": "markdown",
      "metadata": {
        "id": "mUWBHPaYzaC4"
      },
      "source": [
        "# Clasificación Binaria"
      ]
    },
    {
      "cell_type": "markdown",
      "metadata": {
        "id": "vvN_GooyzaC5"
      },
      "source": [
        "Los algoritmos de aprendizaje supervisado consisten en aprender un _mapa_ entre las variables características de los datos (_features_) y la variable objetivo (_target_). La meta es que el modelo ya entrenado pueda ser usado con nuevas observaciones de los features para predecir el target. Por este motivo, este tipo de algoritmos suele ser dividido gruesamente en dos categorias:\n",
        "- Regresión: Cuando el(los) target(s) es continuo (como un numero real)\n",
        "- Clasificación: Cuando el(los) target(s) es discreto (como una clase o categoría)\n",
        "\n",
        "Las tareas de clasificación son luego subdivididas de acuerdo a cuantos targets uno intena predecir (_mono-target_ vs _multi-target_) y cuantos valores, o _clases_, puede tomar (binario vs multi-clase).\n",
        "\n",
        "En la clase pasada vimos como acercarnos a problemas de Regresión usando modelos lineales. Hoy abordaremos los conceptos principales de tareas de Clasificación, considerando un problema simple de Clasificación Binaria de un solo target, al cual nos aproximaremos de una forma muy similar."
      ]
    },
    {
      "cell_type": "markdown",
      "metadata": {
        "id": "5NlWzJnLzaC6"
      },
      "source": [
        "# Librerias\n",
        "\n",
        "Como en todo proyecto, utilizaremos muchas funcionalidades disponibles en librerias abiertas. Para importarlas en el ambiente de trabajo, corre la siguiente celda:"
      ]
    },
    {
      "cell_type": "code",
      "execution_count": 4,
      "metadata": {
        "id": "Wt_rM7DRzaC6",
        "tags": []
      },
      "outputs": [],
      "source": [
        "#Funcionalidades para trabajar con datos estructurados en forma de Dataframes\n",
        "import numpy as np\n",
        "import matplotlib.pyplot as plt\n",
        "import pandas as pd\n",
        "from sklearn.linear_model import LogisticRegression\n",
        "from sklearn.metrics import accuracy_score\n",
        "import seaborn as sns"
      ]
    },
    {
      "cell_type": "markdown",
      "metadata": {
        "id": "m17nSoR1zaC7",
        "tags": []
      },
      "source": [
        "## Set de datos\n",
        "\n",
        "Para mostrar de forma clara los conceptos, utilizaremos un dataset artificial. Este consiste en dos variables ($x$ e $y$) que identifican un punto en el plano. Estos puntos pueden pertenecer a dos clases diferentes ($target = 0$ o $1$).\n",
        "\n",
        "La siguiente línea de codigo descargará el dataset a tu sistema local de archivos"
      ]
    },
    {
      "cell_type": "code",
      "execution_count": 5,
      "metadata": {
        "colab": {
          "base_uri": "https://localhost:8080/"
        },
        "id": "qPwqD-RpzaC7",
        "outputId": "bc33e23b-cf29-437e-c165-062a5e139fae",
        "tags": []
      },
      "outputs": [
        {
          "name": "stdout",
          "output_type": "stream",
          "text": [
            "/bin/bash: -c: line 1: syntax error near unexpected token `'binary_classification.csv''\n",
            "/bin/bash: -c: line 1: `os.path.isfile('binary_classification.csv')'\n"
          ]
        }
      ],
      "source": [
        "import os.path\n",
        "from pathlib import Path\n",
        "file = Path('../guia3/binary_classification.csv')\n",
        "if not file.is_file():\n",
        "    ! wget https: // raw.githubusercontent.com/LCD-UNSAM/iaa2023c1/main/datasets/binary_classification.csv\n",
        "!os.path.isfile('binary_classification.csv')\n"
      ]
    },
    {
      "cell_type": "markdown",
      "metadata": {
        "id": "Su_R0h1EzaC7"
      },
      "source": [
        "**Ejercicio**\n",
        "- Importa los datos en el archivo `BinaryClassification1.csv` a un DataFrame de Pandas y visuliza las primersa filas.\n",
        "\n",
        "*Pista: Prueba corriendo* `pd.read_csv?` y `pd.DataFrame.head?` y lee la documentación."
      ]
    },
    {
      "cell_type": "code",
      "execution_count": 6,
      "metadata": {
        "id": "G643uSkBzaC7"
      },
      "outputs": [
        {
          "data": {
            "text/html": [
              "<div>\n",
              "<style scoped>\n",
              "    .dataframe tbody tr th:only-of-type {\n",
              "        vertical-align: middle;\n",
              "    }\n",
              "\n",
              "    .dataframe tbody tr th {\n",
              "        vertical-align: top;\n",
              "    }\n",
              "\n",
              "    .dataframe thead th {\n",
              "        text-align: right;\n",
              "    }\n",
              "</style>\n",
              "<table border=\"1\" class=\"dataframe\">\n",
              "  <thead>\n",
              "    <tr style=\"text-align: right;\">\n",
              "      <th></th>\n",
              "      <th>x</th>\n",
              "      <th>y</th>\n",
              "      <th>target</th>\n",
              "    </tr>\n",
              "  </thead>\n",
              "  <tbody>\n",
              "    <tr>\n",
              "      <th>0</th>\n",
              "      <td>-0.422635</td>\n",
              "      <td>-0.932620</td>\n",
              "      <td>1.0</td>\n",
              "    </tr>\n",
              "    <tr>\n",
              "      <th>1</th>\n",
              "      <td>-3.036275</td>\n",
              "      <td>0.482545</td>\n",
              "      <td>0.0</td>\n",
              "    </tr>\n",
              "    <tr>\n",
              "      <th>2</th>\n",
              "      <td>-0.634106</td>\n",
              "      <td>-0.040808</td>\n",
              "      <td>1.0</td>\n",
              "    </tr>\n",
              "    <tr>\n",
              "      <th>3</th>\n",
              "      <td>-0.448945</td>\n",
              "      <td>0.330000</td>\n",
              "      <td>1.0</td>\n",
              "    </tr>\n",
              "    <tr>\n",
              "      <th>4</th>\n",
              "      <td>0.293817</td>\n",
              "      <td>0.638174</td>\n",
              "      <td>1.0</td>\n",
              "    </tr>\n",
              "    <tr>\n",
              "      <th>...</th>\n",
              "      <td>...</td>\n",
              "      <td>...</td>\n",
              "      <td>...</td>\n",
              "    </tr>\n",
              "    <tr>\n",
              "      <th>445</th>\n",
              "      <td>-1.797550</td>\n",
              "      <td>-2.414854</td>\n",
              "      <td>1.0</td>\n",
              "    </tr>\n",
              "    <tr>\n",
              "      <th>446</th>\n",
              "      <td>-0.853657</td>\n",
              "      <td>-0.420858</td>\n",
              "      <td>1.0</td>\n",
              "    </tr>\n",
              "    <tr>\n",
              "      <th>447</th>\n",
              "      <td>-0.242662</td>\n",
              "      <td>0.216986</td>\n",
              "      <td>1.0</td>\n",
              "    </tr>\n",
              "    <tr>\n",
              "      <th>448</th>\n",
              "      <td>-3.527124</td>\n",
              "      <td>0.114473</td>\n",
              "      <td>0.0</td>\n",
              "    </tr>\n",
              "    <tr>\n",
              "      <th>449</th>\n",
              "      <td>-2.653479</td>\n",
              "      <td>0.609464</td>\n",
              "      <td>0.0</td>\n",
              "    </tr>\n",
              "  </tbody>\n",
              "</table>\n",
              "<p>450 rows × 3 columns</p>\n",
              "</div>"
            ],
            "text/plain": [
              "            x         y  target\n",
              "0   -0.422635 -0.932620     1.0\n",
              "1   -3.036275  0.482545     0.0\n",
              "2   -0.634106 -0.040808     1.0\n",
              "3   -0.448945  0.330000     1.0\n",
              "4    0.293817  0.638174     1.0\n",
              "..        ...       ...     ...\n",
              "445 -1.797550 -2.414854     1.0\n",
              "446 -0.853657 -0.420858     1.0\n",
              "447 -0.242662  0.216986     1.0\n",
              "448 -3.527124  0.114473     0.0\n",
              "449 -2.653479  0.609464     0.0\n",
              "\n",
              "[450 rows x 3 columns]"
            ]
          },
          "execution_count": 6,
          "metadata": {},
          "output_type": "execute_result"
        }
      ],
      "source": [
        "df = pd.read_csv('binary_classification.csv')\n",
        "df.columns\n",
        "df"
      ]
    },
    {
      "cell_type": "markdown",
      "metadata": {
        "id": "vIXDmd8DzaC7"
      },
      "source": [
        "**Ejercicio**\n",
        "- Grafica los datos usando la función `.plot`\n",
        "- Explora visualizar las clases pintando los puntos de diferente color.\n",
        "\n",
        "*Pistas:*\n",
        "- *Usa `kind=scatter` para graficar puntos sueltos.*\n",
        "- *El argumento `c` de la función `DataFrame.plot` se puede usar para especificar la columna que lleva informacion del color*"
      ]
    },
    {
      "cell_type": "code",
      "execution_count": 7,
      "metadata": {},
      "outputs": [
        {
          "data": {
            "text/plain": [
              "<Axes: xlabel='x', ylabel='y'>"
            ]
          },
          "execution_count": 7,
          "metadata": {},
          "output_type": "execute_result"
        },
        {
          "data": {
            "image/png": "[encoded data removed]",
            "text/plain": [
              "<Figure size 640x480 with 2 Axes>"
            ]
          },
          "metadata": {},
          "output_type": "display_data"
        }
      ],
      "source": [
        "df.plot(kind='scatter' ,x='x', y='y',c='target')"
      ]
    },
    {
      "cell_type": "code",
      "execution_count": null,
      "metadata": {
        "id": "jSfNBlcwzaC7"
      },
      "outputs": [],
      "source": []
    },
    {
      "cell_type": "markdown",
      "metadata": {
        "id": "6Lm8GdvUzaC7"
      },
      "source": [
        "## Primer Acercamiento a la clasificacion: Caso unidimensional."
      ]
    },
    {
      "cell_type": "markdown",
      "metadata": {
        "id": "YsXVbGkQzaC8"
      },
      "source": [
        "Imaginemos que queremos clasificar este conjunto de datos en las dos clases provistas, utilizando solo la información de una variable, por ejemplo $x$. El acercamiento mas sencillo consistiría en:\n",
        "- Establecer un valor de _umbral_ $x_u$\n",
        "- Clasificar segun si $x>x_u$\n",
        "\n",
        "Distintos valores de $x_u$ daran lugar a distintos resultados. Para medir que tan bueno o malo es el resultado, necesitamos de una metrica. Una metrica popular para clasificacion binaria de conjuntos de datos _balanceados_ (es decir, con similar cantidad de instancias en cada clase) es la _exactitud_ o _accuracy_. Esta no es otra cosa que la fracción de instancias bien clasificadas.\n",
        "\n",
        "**Ejercicio**\n",
        "- Grafique un histograma de la coordenada $x$ para cada clase. \n",
        "- Elija (a ojo) un valor de umbral $x_u$ \n",
        "- Cree un vector con sus predicciones $pred$, y mida cual es la exactitud de su predicción.\n",
        "- Pruebe con distintos valores de umbral, tambien puede probar el mismo procedimiento en la variable $y$. ¿Cual es el mejor _modelo_ que obtiene?"
      ]
    },
    {
      "cell_type": "code",
      "execution_count": 8,
      "metadata": {
        "id": "OjlOTy4gzaC8",
        "tags": []
      },
      "outputs": [
        {
          "data": {
            "text/plain": [
              "0       True\n",
              "1      False\n",
              "2       True\n",
              "3       True\n",
              "4       True\n",
              "       ...  \n",
              "445     True\n",
              "446     True\n",
              "447     True\n",
              "448    False\n",
              "449    False\n",
              "Name: x, Length: 450, dtype: bool"
            ]
          },
          "execution_count": 8,
          "metadata": {},
          "output_type": "execute_result"
        }
      ],
      "source": [
        "x_u = -2\n",
        "pred = df['x'] > x_u\n",
        "pred\n"
      ]
    },
    {
      "cell_type": "code",
      "execution_count": 9,
      "metadata": {},
      "outputs": [
        {
          "data": {
            "text/html": [
              "<div>\n",
              "<style scoped>\n",
              "    .dataframe tbody tr th:only-of-type {\n",
              "        vertical-align: middle;\n",
              "    }\n",
              "\n",
              "    .dataframe tbody tr th {\n",
              "        vertical-align: top;\n",
              "    }\n",
              "\n",
              "    .dataframe thead th {\n",
              "        text-align: right;\n",
              "    }\n",
              "</style>\n",
              "<table border=\"1\" class=\"dataframe\">\n",
              "  <thead>\n",
              "    <tr style=\"text-align: right;\">\n",
              "      <th></th>\n",
              "      <th>x</th>\n",
              "      <th>y</th>\n",
              "      <th>target</th>\n",
              "      <th>pred</th>\n",
              "    </tr>\n",
              "  </thead>\n",
              "  <tbody>\n",
              "    <tr>\n",
              "      <th>0</th>\n",
              "      <td>-0.422635</td>\n",
              "      <td>-0.932620</td>\n",
              "      <td>1.0</td>\n",
              "      <td>1.0</td>\n",
              "    </tr>\n",
              "    <tr>\n",
              "      <th>1</th>\n",
              "      <td>-3.036275</td>\n",
              "      <td>0.482545</td>\n",
              "      <td>0.0</td>\n",
              "      <td>0.0</td>\n",
              "    </tr>\n",
              "  </tbody>\n",
              "</table>\n",
              "</div>"
            ],
            "text/plain": [
              "          x         y  target  pred\n",
              "0 -0.422635 -0.932620     1.0   1.0\n",
              "1 -3.036275  0.482545     0.0   0.0"
            ]
          },
          "execution_count": 9,
          "metadata": {},
          "output_type": "execute_result"
        }
      ],
      "source": [
        "df['pred'] =  pred.astype('float')\n",
        "df.iloc[0:2]"
      ]
    },
    {
      "cell_type": "code",
      "execution_count": 10,
      "metadata": {},
      "outputs": [
        {
          "data": {
            "text/plain": [
              "0.4"
            ]
          },
          "execution_count": 10,
          "metadata": {},
          "output_type": "execute_result"
        }
      ],
      "source": [
        "exactitud = df.groupby(['target','pred']).size()\n",
        "(exactitud.iloc[0]+exactitud.iloc[2])/df.shape[0]\n",
        "\n",
        "\n"
      ]
    },
    {
      "cell_type": "markdown",
      "metadata": {
        "id": "5oI8HaQHzaC8"
      },
      "source": [
        "Debajo hay un snippet para visualizar esta clasificación en el gráfico bidimensional. Asegúrate que el vector de predicciones se llama `pred`, el umbral elegido `x_u`, y el DataFrame `df` contenga las columnas originales `x`, `y` y `target`."
      ]
    },
    {
      "cell_type": "code",
      "execution_count": 11,
      "metadata": {
        "id": "yzuQxRiKzaC8"
      },
      "outputs": [
        {
          "data": {
            "text/plain": [
              "<function matplotlib.pyplot.legend(*args, **kwargs)>"
            ]
          },
          "execution_count": 11,
          "metadata": {},
          "output_type": "execute_result"
        },
        {
          "data": {
            "image/png": "[encoded data removed]",
            "text/plain": [
              "<Figure size 640x480 with 1 Axes>"
            ]
          },
          "metadata": {},
          "output_type": "display_data"
        }
      ],
      "source": [
        "plt.scatter(df[df.target==0].x, df[df.target==0].y, marker='o', c=pred[df.target==0], label='Class 0')\n",
        "plt.scatter(df[df.target==1].x, df[df.target==1].y, marker='v', c=pred[df.target==1], label='Class 1')\n",
        "plt.legend()\n",
        "plt.vlines(x_u,df.y.min(), df.y.max(), ls='-.', colors='black')\n",
        "plt.xlabel(\"x\")\n",
        "plt.ylabel(\"y\")\n",
        "plt.legend"
      ]
    },
    {
      "cell_type": "markdown",
      "metadata": {
        "id": "qPNBuj5JzaC8"
      },
      "source": [
        "## Segundo acercamiento: Caso bi(multi)-dimensional"
      ]
    },
    {
      "cell_type": "markdown",
      "metadata": {
        "id": "E174UV87zaC8"
      },
      "source": [
        "Los modelos lineales de clasificación consisten en esto: Trazar una línea recta que divida de un lado una clase y de otro lado otra. En el caso de mas de 2 dimensiones, es colocar un hiperplano que divida el espacio en dos mitades: A un lado y el otro del hiperplano, clasificamos como una u otra clase. \n",
        "\n",
        "La manera matemática de caracterizar una linea recta en un plano es con una simple ecuación:\n",
        "$$\n",
        "w_1  x + w_2 y = cte\n",
        "$$\n",
        "donde $w_1$ y $w_2$ determinan el angulo de la linea, y la constante mueve paralelamente esa recta. Esta constante no es otra cosa que el _umbral_ que elegimos en la sección anterior ($x_u$), mientras que los numeros $w_i$ se le llaman _pesos_ y en el caso de una dimensión de la sección anterior corresponde a tomar $w_2=0$ y $w_1=1$ (una linea vertical).\n",
        "\n",
        "En el caso mas general de $N$ dimensiones, generaliza de igual forma:\n",
        "$$\n",
        "w_0 + w_1  x_1 + w_2 x_2 + ... + w_N  x_N = 0\n",
        "$$\n",
        "(donde llamamos al umbral $-w_0$ para llevar la ecuación a una forma convencional).\n",
        "\n",
        "- Al hiperplano que separa los puntos se le llama **_\"frontera de decisión\"_**. \n",
        "\n",
        "- Este esta caracterizado por ser donde se anula la función lineal $f(\\vec w, \\vec x) = w_0 + w_1  x_1 + w_2 x_2 + ... + w_N  x_N $\n",
        "\n",
        "- A la función usada para clasificar se le llama **función discriminante**.\n"
      ]
    },
    {
      "cell_type": "markdown",
      "metadata": {
        "id": "ugalsKWBzaC8"
      },
      "source": [
        "**Ejericio**\n",
        "Utilice las funciones definidas debajo para encontrar la mejor frontera de decisión."
      ]
    },
    {
      "cell_type": "code",
      "execution_count": 12,
      "metadata": {
        "id": "JI5c6RmDzaC8",
        "tags": []
      },
      "outputs": [],
      "source": [
        "def model(w, x, y):\n",
        "    return w[0] +w[1]*x + w[2]*y > 0\n",
        "\n",
        "def plot(x, y, target, pred, w=[]):\n",
        "\n",
        "    plt.scatter(x[target==0], y[target==0], marker='o', c=np.where(pred[target==0], 'r', 'b'), label='Class 0')\n",
        "    plt.scatter(x[target==1], y[target==1], marker='v', c=np.where(pred[target==1], 'r', 'b'), label='Class 1')\n",
        "    plt.legend()\n",
        "    if len(w) >= 3 and (w[2]!=0 or w[1]!=0):\n",
        "        if w[2]==0:\n",
        "            plt.vlines(-w[0]/w[1],df.y.min(), df.y.max(), ls='-.', colors='black')\n",
        "        else:\n",
        "            u = np.linspace(min(x), max(x), 100)\n",
        "            v = -(w[0] + w[1]*u) / w[2]\n",
        "            plt.plot(u,v, ls='-.', c='black')        \n",
        "    plt.xlabel(\"x\")\n",
        "    plt.ylabel(\"y\")\n",
        "    plt.legend()\n"
      ]
    },
    {
      "cell_type": "code",
      "execution_count": 13,
      "metadata": {
        "id": "Yp1kAf22zaC9",
        "tags": []
      },
      "outputs": [
        {
          "data": {
            "image/png": "[encoded data removed]",
            "text/plain": [
              "<Figure size 640x480 with 1 Axes>"
            ]
          },
          "metadata": {},
          "output_type": "display_data"
        }
      ],
      "source": [
        "#Tu turno...\n",
        "w =[\n",
        "    3.5, #w0\n",
        "    2, #w1\n",
        "    -2, #w2\n",
        "    ]\n",
        "\n",
        "preds = model(w, df.x, df.y)\n",
        "plot(df.x, df.y, df.target, preds, w=w)"
      ]
    },
    {
      "cell_type": "markdown",
      "metadata": {
        "id": "DhyCMUzRzaC9"
      },
      "source": [
        "Este es el mas sencillo de los métodos llamados de _función discriminante_. Estos consisten en ajustar una función escalar, cuyo valor determina la clase a la que pertenece, dependiendo de si está por encima o debajo del _umbral de decisión_.\n",
        "\n",
        "A esta función lineal, cuando se aparea con un método particular para elegir los pesos $w$, se le llama _modelo_. Un caso particular es el llamado _Perceptrón_ que corresponde a elegir el $w$ que minimice el número de puntos mal clasificados."
      ]
    },
    {
      "cell_type": "markdown",
      "metadata": {
        "id": "tjMNSJiZzaC9"
      },
      "source": [
        "## [Opcional] Un poco de teoría: Función de Pérdida"
      ]
    },
    {
      "cell_type": "markdown",
      "metadata": {
        "id": "r7HN_UMazaC9"
      },
      "source": [
        "Como vemos, los modelos de machine learning no son mas que parametrizaciones de como tomar una decisión. En el caso de modelos lineales, tomamos una combinacion lineal de todos nuestros features, cuyos coeficientes (los pesos $w$) son los parámetros del modelo. \n",
        "\n",
        "El procedimiento de **_entrenar_** un modelo consiste en encontrar cual es la _mejor_ combinación de parámetros de un modelo sobre un dataset. Lo unico que nos falta es definir que significa \"mejor\", para esto es que se usa una _función de pérdida_. Esta es una función que toma las predicciones $p$ de nuestro modelo (que a su vez depende de los parámetros $\\vec w$ y los features del dataset $X$) y el objetivo o target $t$, y devuelve un número que nos dice que tan _lejos_ esta el modelo de predecir bien: \n",
        "$$ \\mathcal{L} = \\mathcal{L}(p, t) = f(\\vec w, X, \\vec t).$$ \n",
        "\n",
        "El problema de entrenamiento pasa a ser un problema de _optimización_: Dado $X$ y $\\vec t$, encontrar los $\\vec w$ que minimizan la función de pérdida $\\mathcal{L}$. $$\\vec w_{best} = \\left. \\argmin_{\\vec w} \\mathcal{L} (\\vec p, \\vec t) \\right|_{X, \\vec t}$$\n",
        "Afortunadamente, este problema de optimización es uno de los mas estudiados en ciencias de la computación y hoy en dia contamos con algoritmos muy eficientes para su resolución.\n",
        "\n",
        "Entre las posibles funciones de pérdida, podemos mencionar dos que dan lugar a dos modelos diferentes\n",
        "- *Pérdida 0-1*: \n",
        "\n",
        "Por cada punto mal clasificado, sumamos 1 a la funcion de perdida, y por cada punto bien clasificado 0. Esto da lugar al algoritmo conocido como _**Perceptrón**_ de importancia histórica. Esta función de pérdida la podemos escribir como $$\\mathcal{L}(p,y) = \\sum_i max(0; - (2 p_i-1) (2 t_i - 1) )$$\n",
        "donde la predicción del modelo es\n",
        "$$\n",
        "p_i=   \\left\\{\n",
        "    \\begin{array}{ll}\n",
        "    1 & {\\rm if }\\; w_0 + w_1 x^{(i)}_1 + ... + + w_N x^{(i)}_N \\ge 0 \\\\\n",
        "    0 & {\\rm if }\\; w_0 + w_1 x^{(i)}_1 + ... + + w_N x^{(i)}_N < 0 \\\\\n",
        "    \\end{array} \n",
        "    \\right. $$\n",
        "\n",
        "- Entropía cruzada binaria:\n",
        "\n",
        "Esta función de error tiene su origen en la teoría de la información, y es la que caracteriza al modelo del _**Regresor Logístico**_. Se puede escribir como\n",
        "\n",
        "$$\\mathcal{L}(\\vec p, \\vec t) = \\sum_i \\left[ - t_i \\log(p_i) - (1-t_i) \\log(1-p_i)\\right]$$\n",
        "\n",
        "Con la diferencia en que aquí la predicción del modelo $p_i$ no es 0 o 1, sino un número entre 0 y 1, que representa _la probabilidad de que la instancia $x^{(i)}$ pertenezca a la clase 1_."
      ]
    },
    {
      "cell_type": "markdown",
      "metadata": {
        "id": "ke86jVwDzaC9"
      },
      "source": [
        "## Regresor Logístico"
      ]
    },
    {
      "cell_type": "markdown",
      "metadata": {
        "id": "SeRVpeL7zaC9"
      },
      "source": [
        "El regresor logístico es un método discrtiminativo, es decir que nos provee no solo la predicción de _a que clase pertenece una muestra_, sino que responde a la pregunta de _cual es la probabilidad de que una muestra pertenezca a una clase_. Esta probabilidad podrá ser luego usada para clasificar (es decir, usando la probabilidad como función discriminante), donde se asigna cada muestra a la clase más probable (umbral = 0.5) o de otra forma a su elección.\n",
        "\n",
        "Es un _modelo lineal generalizado_, es decir que se basa en un modelo lineal cuyo resultado se pasa por una _función de vínculo_ que en este caso es la función sigmoide. \n",
        "Matemáticamente:\n",
        "$$ p = \\sigma(w_0 + w_1 x^{(i)}_1 + ... + + w_N x^{(i)}_N) $$ \n",
        "\n",
        "siendo $\\sigma $ la función sigmoide $\\sigma(z) = \\frac{1}{1 + e^{-z}}$"
      ]
    },
    {
      "cell_type": "code",
      "execution_count": 14,
      "metadata": {
        "id": "XRr6xj4KzaC9"
      },
      "outputs": [
        {
          "data": {
            "text/plain": [
              "Text(0, 0.5, '$\\\\sigma (z)$')"
            ]
          },
          "execution_count": 14,
          "metadata": {},
          "output_type": "execute_result"
        },
        {
          "data": {
            "image/png": "[encoded data removed]",
            "text/plain": [
              "<Figure size 640x480 with 1 Axes>"
            ]
          },
          "metadata": {},
          "output_type": "display_data"
        }
      ],
      "source": [
        "def sigmoid(z):\n",
        "    return 1 / (1 + np.exp(-z))\n",
        "\n",
        "z = np.linspace(-10,10)\n",
        "plt.plot(z, sigmoid(z))\n",
        "plt.xlabel(\"z\")\n",
        "plt.ylabel(\"$\\sigma (z)$\")"
      ]
    },
    {
      "cell_type": "markdown",
      "metadata": {
        "id": "iVjQq5tKzaC9"
      },
      "source": [
        "A esta parametrización se la aparea con la funcíon de pérdida de _entropía cruzada binaria_ para dar como resultado el regresor logístico. La base matemática de esta elección tiene fundamentos en teoría de la probabilidad, que escapan al marco de esta materia."
      ]
    },
    {
      "cell_type": "markdown",
      "metadata": {
        "id": "BYxeFYZqzaC9"
      },
      "source": [
        "**Ejercicio**\n",
        "\n",
        "1. Use el regresor logístico (importado de Scikit-Learn al comienzo del notebook) para ajustar los datos (setee el parámetro `penalty = 'none'`)\n",
        "\n",
        "*Pistas: El input del modelo X es una matriz cuyas filas son muestras, y cuyas columnas son features. Utilice la funcion `.to_numpy()` de pandas para pasar del DataFrame a arrays de numpy*\n"
      ]
    },
    {
      "cell_type": "code",
      "execution_count": 15,
      "metadata": {
        "id": "CQihYvSszaC-",
        "tags": []
      },
      "outputs": [
        {
          "data": {
            "text/html": [
              "<div>\n",
              "<style scoped>\n",
              "    .dataframe tbody tr th:only-of-type {\n",
              "        vertical-align: middle;\n",
              "    }\n",
              "\n",
              "    .dataframe tbody tr th {\n",
              "        vertical-align: top;\n",
              "    }\n",
              "\n",
              "    .dataframe thead th {\n",
              "        text-align: right;\n",
              "    }\n",
              "</style>\n",
              "<table border=\"1\" class=\"dataframe\">\n",
              "  <thead>\n",
              "    <tr style=\"text-align: right;\">\n",
              "      <th></th>\n",
              "      <th>y</th>\n",
              "      <th>y_pred</th>\n",
              "    </tr>\n",
              "  </thead>\n",
              "  <tbody>\n",
              "    <tr>\n",
              "      <th>0</th>\n",
              "      <td>1.0</td>\n",
              "      <td>1.0</td>\n",
              "    </tr>\n",
              "    <tr>\n",
              "      <th>1</th>\n",
              "      <td>0.0</td>\n",
              "      <td>0.0</td>\n",
              "    </tr>\n",
              "    <tr>\n",
              "      <th>2</th>\n",
              "      <td>1.0</td>\n",
              "      <td>1.0</td>\n",
              "    </tr>\n",
              "    <tr>\n",
              "      <th>3</th>\n",
              "      <td>1.0</td>\n",
              "      <td>1.0</td>\n",
              "    </tr>\n",
              "    <tr>\n",
              "      <th>4</th>\n",
              "      <td>1.0</td>\n",
              "      <td>1.0</td>\n",
              "    </tr>\n",
              "    <tr>\n",
              "      <th>...</th>\n",
              "      <td>...</td>\n",
              "      <td>...</td>\n",
              "    </tr>\n",
              "    <tr>\n",
              "      <th>445</th>\n",
              "      <td>1.0</td>\n",
              "      <td>1.0</td>\n",
              "    </tr>\n",
              "    <tr>\n",
              "      <th>446</th>\n",
              "      <td>1.0</td>\n",
              "      <td>1.0</td>\n",
              "    </tr>\n",
              "    <tr>\n",
              "      <th>447</th>\n",
              "      <td>1.0</td>\n",
              "      <td>1.0</td>\n",
              "    </tr>\n",
              "    <tr>\n",
              "      <th>448</th>\n",
              "      <td>0.0</td>\n",
              "      <td>0.0</td>\n",
              "    </tr>\n",
              "    <tr>\n",
              "      <th>449</th>\n",
              "      <td>0.0</td>\n",
              "      <td>0.0</td>\n",
              "    </tr>\n",
              "  </tbody>\n",
              "</table>\n",
              "<p>450 rows × 2 columns</p>\n",
              "</div>"
            ],
            "text/plain": [
              "       y  y_pred\n",
              "0    1.0     1.0\n",
              "1    0.0     0.0\n",
              "2    1.0     1.0\n",
              "3    1.0     1.0\n",
              "4    1.0     1.0\n",
              "..   ...     ...\n",
              "445  1.0     1.0\n",
              "446  1.0     1.0\n",
              "447  1.0     1.0\n",
              "448  0.0     0.0\n",
              "449  0.0     0.0\n",
              "\n",
              "[450 rows x 2 columns]"
            ]
          },
          "execution_count": 15,
          "metadata": {},
          "output_type": "execute_result"
        }
      ],
      "source": [
        "#Tu turno... \n",
        "classifier = LogisticRegression()\n",
        "\n",
        "X = df.iloc[:,[0,1]]\n",
        "\n",
        "y = df['target']\n",
        "classifier.fit(X, y)\n",
        "y_pred = classifier.predict(X)\n",
        "result = pd.DataFrame({'y': y, 'y_pred': y_pred})\n",
        "result\n"
      ]
    },
    {
      "cell_type": "markdown",
      "metadata": {
        "id": "R3YTlzHlzaC-"
      },
      "source": [
        "2. Calcule el vector de probabilidades predichas por el modelo ajustado sobre el dataset. Examine e interprete su resultado.\n",
        "\n",
        "*Pistas: `.predict_proba(X)`*\n"
      ]
    },
    {
      "cell_type": "code",
      "execution_count": 16,
      "metadata": {
        "id": "t9eBr1aPzaC-",
        "tags": []
      },
      "outputs": [
        {
          "data": {
            "text/plain": [
              "array([[1.75900297e-03, 9.98240997e-01],\n",
              "       [9.97026330e-01, 2.97366981e-03],\n",
              "       [3.32558332e-02, 9.66744167e-01],\n",
              "       [4.62585298e-02, 9.53741470e-01],\n",
              "       [9.33990220e-03, 9.90660098e-01],\n",
              "       [9.99213815e-01, 7.86185193e-04],\n",
              "       [9.14391832e-03, 9.90856082e-01],\n",
              "       [1.95048150e-03, 9.98049519e-01],\n",
              "       [9.25126036e-01, 7.48739636e-02],\n",
              "       [1.59871214e-03, 9.98401288e-01],\n",
              "       [9.96385853e-01, 3.61414748e-03],\n",
              "       [3.56567498e-03, 9.96434325e-01],\n",
              "       [1.88304912e-03, 9.98116951e-01],\n",
              "       [1.12938521e-03, 9.98870615e-01],\n",
              "       [9.99971266e-01, 2.87344920e-05],\n",
              "       [9.98441730e-01, 1.55826994e-03],\n",
              "       [8.95366351e-01, 1.04633649e-01],\n",
              "       [1.04204181e-03, 9.98957958e-01],\n",
              "       [3.17302180e-03, 9.96826978e-01],\n",
              "       [9.66503224e-01, 3.34967756e-02],\n",
              "       [9.95466715e-01, 4.53328548e-03],\n",
              "       [6.05092359e-03, 9.93949076e-01],\n",
              "       [2.80352027e-03, 9.97196480e-01],\n",
              "       [2.41055176e-03, 9.97589448e-01],\n",
              "       [9.84510339e-01, 1.54896613e-02],\n",
              "       [1.94393334e-02, 9.80560667e-01],\n",
              "       [3.35240822e-03, 9.96647592e-01],\n",
              "       [3.21425183e-04, 9.99678575e-01],\n",
              "       [9.97071924e-01, 2.92807613e-03],\n",
              "       [2.29331967e-03, 9.97706680e-01],\n",
              "       [3.62858952e-03, 9.96371410e-01],\n",
              "       [1.42632313e-03, 9.98573677e-01],\n",
              "       [7.73134202e-04, 9.99226866e-01],\n",
              "       [1.94989583e-03, 9.98050104e-01],\n",
              "       [9.99948834e-01, 5.11655035e-05],\n",
              "       [9.98427772e-01, 1.57222783e-03],\n",
              "       [9.79510486e-01, 2.04895138e-02],\n",
              "       [4.33811753e-03, 9.95661882e-01],\n",
              "       [5.96303746e-03, 9.94036963e-01],\n",
              "       [9.92997232e-01, 7.00276827e-03],\n",
              "       [6.22850783e-03, 9.93771492e-01],\n",
              "       [1.92844936e-02, 9.80715506e-01],\n",
              "       [9.90210838e-01, 9.78916168e-03],\n",
              "       [1.24117715e-02, 9.87588229e-01],\n",
              "       [9.92893745e-01, 7.10625514e-03],\n",
              "       [5.47232545e-03, 9.94527675e-01],\n",
              "       [9.99838226e-01, 1.61774030e-04],\n",
              "       [2.76080071e-02, 9.72391993e-01],\n",
              "       [2.00802586e-03, 9.97991974e-01],\n",
              "       [5.70086670e-03, 9.94299133e-01],\n",
              "       [2.27456321e-02, 9.77254368e-01],\n",
              "       [5.82473943e-03, 9.94175261e-01],\n",
              "       [2.77308047e-03, 9.97226920e-01],\n",
              "       [9.49539960e-04, 9.99050460e-01],\n",
              "       [3.61055000e-03, 9.96389450e-01],\n",
              "       [9.99587856e-01, 4.12143693e-04],\n",
              "       [9.96156281e-01, 3.84371927e-03],\n",
              "       [9.99557696e-01, 4.42304333e-04],\n",
              "       [9.99813912e-01, 1.86088218e-04],\n",
              "       [9.98842097e-01, 1.15790254e-03],\n",
              "       [3.97359641e-03, 9.96026404e-01],\n",
              "       [9.95815155e-01, 4.18484495e-03],\n",
              "       [9.99855333e-01, 1.44666679e-04],\n",
              "       [1.49810019e-02, 9.85018998e-01],\n",
              "       [1.08463319e-02, 9.89153668e-01],\n",
              "       [1.31109106e-02, 9.86889089e-01],\n",
              "       [9.99511502e-01, 4.88497816e-04],\n",
              "       [5.30043564e-03, 9.94699564e-01],\n",
              "       [6.19785482e-03, 9.93802145e-01],\n",
              "       [3.62823251e-03, 9.96371767e-01],\n",
              "       [9.69749978e-01, 3.02500220e-02],\n",
              "       [4.99702209e-03, 9.95002978e-01],\n",
              "       [9.95998986e-01, 4.00101423e-03],\n",
              "       [9.99448490e-01, 5.51509704e-04],\n",
              "       [1.26488540e-03, 9.98735115e-01],\n",
              "       [7.29329664e-04, 9.99270670e-01],\n",
              "       [9.07113882e-04, 9.99092886e-01],\n",
              "       [2.52254631e-03, 9.97477454e-01],\n",
              "       [9.80334936e-01, 1.96650637e-02],\n",
              "       [1.53735806e-03, 9.98462642e-01],\n",
              "       [4.20394443e-03, 9.95796056e-01],\n",
              "       [9.42598955e-01, 5.74010455e-02],\n",
              "       [6.70306142e-04, 9.99329694e-01],\n",
              "       [9.31601672e-01, 6.83983283e-02],\n",
              "       [5.36246707e-03, 9.94637533e-01],\n",
              "       [9.95299408e-01, 4.70059204e-03],\n",
              "       [1.23560659e-02, 9.87643934e-01],\n",
              "       [5.17221101e-02, 9.48277890e-01],\n",
              "       [9.33083493e-01, 6.69165065e-02],\n",
              "       [5.30552450e-03, 9.94694476e-01],\n",
              "       [8.33753577e-03, 9.91662464e-01],\n",
              "       [1.82989137e-02, 9.81701086e-01],\n",
              "       [9.99873963e-01, 1.26037380e-04],\n",
              "       [1.79683852e-03, 9.98203161e-01],\n",
              "       [8.22370341e-04, 9.99177630e-01],\n",
              "       [7.68705917e-03, 9.92312941e-01],\n",
              "       [2.86206067e-02, 9.71379393e-01],\n",
              "       [1.77215802e-03, 9.98227842e-01],\n",
              "       [9.99247775e-01, 7.52224659e-04],\n",
              "       [9.98250057e-01, 1.74994276e-03],\n",
              "       [9.99731243e-01, 2.68756729e-04],\n",
              "       [3.52061238e-03, 9.96479388e-01],\n",
              "       [2.28118709e-02, 9.77188129e-01],\n",
              "       [9.90195659e-01, 9.80434136e-03],\n",
              "       [9.99636257e-01, 3.63742916e-04],\n",
              "       [2.97791018e-03, 9.97022090e-01],\n",
              "       [9.93618230e-01, 6.38177023e-03],\n",
              "       [6.59555966e-03, 9.93404440e-01],\n",
              "       [6.20401386e-03, 9.93795986e-01],\n",
              "       [8.24828848e-03, 9.91751712e-01],\n",
              "       [5.83338161e-03, 9.94166618e-01],\n",
              "       [1.22470450e-03, 9.98775296e-01],\n",
              "       [1.52445919e-03, 9.98475541e-01],\n",
              "       [9.56316457e-01, 4.36835434e-02],\n",
              "       [9.99216774e-01, 7.83226392e-04],\n",
              "       [5.21263421e-02, 9.47873658e-01],\n",
              "       [9.99616284e-01, 3.83716122e-04],\n",
              "       [9.99841920e-01, 1.58079741e-04],\n",
              "       [1.13982118e-02, 9.88601788e-01],\n",
              "       [9.99045869e-01, 9.54131307e-04],\n",
              "       [9.99949123e-01, 5.08770202e-05],\n",
              "       [3.82539130e-03, 9.96174609e-01],\n",
              "       [6.91816754e-03, 9.93081832e-01],\n",
              "       [1.36244250e-02, 9.86375575e-01],\n",
              "       [9.96973522e-01, 3.02647828e-03],\n",
              "       [3.25372016e-03, 9.96746280e-01],\n",
              "       [9.99932319e-01, 6.76806329e-05],\n",
              "       [4.61514376e-03, 9.95384856e-01],\n",
              "       [9.99478925e-01, 5.21074616e-04],\n",
              "       [9.99879508e-01, 1.20491578e-04],\n",
              "       [5.66322214e-03, 9.94336778e-01],\n",
              "       [9.99818091e-01, 1.81908851e-04],\n",
              "       [9.79298645e-01, 2.07013549e-02],\n",
              "       [2.24386422e-02, 9.77561358e-01],\n",
              "       [9.99660884e-01, 3.39116253e-04],\n",
              "       [7.68762139e-03, 9.92312379e-01],\n",
              "       [1.06280597e-03, 9.98937194e-01],\n",
              "       [9.29709777e-02, 9.07029022e-01],\n",
              "       [6.41470122e-03, 9.93585299e-01],\n",
              "       [9.98361786e-01, 1.63821357e-03],\n",
              "       [2.67426578e-02, 9.73257342e-01],\n",
              "       [9.99042913e-01, 9.57086652e-04],\n",
              "       [1.46415360e-02, 9.85358464e-01],\n",
              "       [9.99060879e-01, 9.39121421e-04],\n",
              "       [9.99327288e-01, 6.72711926e-04],\n",
              "       [4.77713654e-04, 9.99522286e-01],\n",
              "       [7.51332281e-03, 9.92486677e-01],\n",
              "       [2.37575066e-03, 9.97624249e-01],\n",
              "       [9.99568464e-01, 4.31536148e-04],\n",
              "       [9.99315185e-01, 6.84814585e-04],\n",
              "       [3.11415630e-02, 9.68858437e-01],\n",
              "       [9.97646814e-01, 2.35318552e-03],\n",
              "       [9.99516269e-01, 4.83731146e-04],\n",
              "       [2.00480779e-03, 9.97995192e-01],\n",
              "       [6.59035329e-04, 9.99340965e-01],\n",
              "       [2.87767442e-02, 9.71223256e-01],\n",
              "       [2.07210853e-02, 9.79278915e-01],\n",
              "       [9.97981592e-01, 2.01840807e-03],\n",
              "       [1.20571450e-03, 9.98794286e-01],\n",
              "       [9.98148115e-01, 1.85188491e-03],\n",
              "       [2.27203460e-03, 9.97727965e-01],\n",
              "       [9.91883057e-01, 8.11694299e-03],\n",
              "       [3.37520576e-03, 9.96624794e-01],\n",
              "       [9.98960548e-01, 1.03945173e-03],\n",
              "       [1.03827383e-02, 9.89617262e-01],\n",
              "       [7.65785901e-03, 9.92342141e-01],\n",
              "       [9.87949433e-01, 1.20505675e-02],\n",
              "       [9.72679810e-01, 2.73201901e-02],\n",
              "       [3.03013027e-03, 9.96969870e-01],\n",
              "       [9.78053306e-04, 9.99021947e-01],\n",
              "       [3.81228096e-03, 9.96187719e-01],\n",
              "       [9.94565915e-01, 5.43408479e-03],\n",
              "       [4.02602863e-03, 9.95973971e-01],\n",
              "       [9.23343232e-01, 7.66567681e-02],\n",
              "       [9.42585037e-01, 5.74149630e-02],\n",
              "       [3.41057706e-03, 9.96589423e-01],\n",
              "       [9.35452682e-01, 6.45473178e-02],\n",
              "       [5.05984121e-03, 9.94940159e-01],\n",
              "       [2.08416525e-03, 9.97915835e-01],\n",
              "       [9.99337769e-01, 6.62231112e-04],\n",
              "       [9.95980859e-01, 4.01914123e-03],\n",
              "       [1.19552021e-02, 9.88044798e-01],\n",
              "       [1.02545707e-02, 9.89745429e-01],\n",
              "       [9.71321205e-01, 2.86787951e-02],\n",
              "       [1.21683717e-03, 9.98783163e-01],\n",
              "       [9.97712232e-01, 2.28776794e-03],\n",
              "       [3.37636482e-03, 9.96623635e-01],\n",
              "       [9.97867976e-01, 2.13202439e-03],\n",
              "       [7.77493934e-04, 9.99222506e-01],\n",
              "       [2.26095323e-03, 9.97739047e-01],\n",
              "       [1.04261142e-01, 8.95738858e-01],\n",
              "       [9.99650090e-01, 3.49909682e-04],\n",
              "       [3.40957950e-02, 9.65904205e-01],\n",
              "       [7.64508244e-04, 9.99235492e-01],\n",
              "       [2.80823405e-03, 9.97191766e-01],\n",
              "       [9.57327927e-01, 4.26720728e-02],\n",
              "       [9.03341573e-03, 9.90966584e-01],\n",
              "       [3.23873995e-03, 9.96761260e-01],\n",
              "       [9.99826203e-01, 1.73796859e-04],\n",
              "       [9.89562374e-01, 1.04376263e-02],\n",
              "       [1.93355151e-01, 8.06644849e-01],\n",
              "       [1.72870660e-03, 9.98271293e-01],\n",
              "       [1.86255575e-03, 9.98137444e-01],\n",
              "       [1.60578275e-03, 9.98394217e-01],\n",
              "       [9.97092378e-01, 2.90762207e-03],\n",
              "       [4.64960493e-03, 9.95350395e-01],\n",
              "       [1.63711454e-03, 9.98362885e-01],\n",
              "       [1.99558032e-03, 9.98004420e-01],\n",
              "       [1.70902233e-02, 9.82909777e-01],\n",
              "       [9.96997269e-01, 3.00273087e-03],\n",
              "       [7.36909376e-04, 9.99263091e-01],\n",
              "       [9.95459301e-01, 4.54069867e-03],\n",
              "       [1.15553796e-02, 9.88444620e-01],\n",
              "       [9.85845204e-01, 1.41547958e-02],\n",
              "       [7.08206269e-03, 9.92917937e-01],\n",
              "       [9.96681500e-01, 3.31849959e-03],\n",
              "       [9.75851482e-01, 2.41485182e-02],\n",
              "       [9.96203509e-01, 3.79649150e-03],\n",
              "       [9.92678436e-01, 7.32156363e-03],\n",
              "       [9.99719918e-01, 2.80081692e-04],\n",
              "       [8.82146317e-01, 1.17853683e-01],\n",
              "       [9.92222599e-01, 7.77740064e-03],\n",
              "       [3.61657372e-03, 9.96383426e-01],\n",
              "       [9.96843826e-01, 3.15617400e-03],\n",
              "       [9.74822947e-01, 2.51770527e-02],\n",
              "       [1.09549575e-02, 9.89045043e-01],\n",
              "       [5.42472846e-03, 9.94575272e-01],\n",
              "       [3.53417959e-03, 9.96465820e-01],\n",
              "       [8.80494010e-04, 9.99119506e-01],\n",
              "       [1.46816585e-02, 9.85318341e-01],\n",
              "       [4.76444206e-04, 9.99523556e-01],\n",
              "       [9.86601622e-01, 1.33983780e-02],\n",
              "       [9.79429896e-03, 9.90205701e-01],\n",
              "       [9.91188653e-01, 8.81134666e-03],\n",
              "       [3.53159179e-03, 9.96468408e-01],\n",
              "       [9.94410036e-01, 5.58996427e-03],\n",
              "       [3.29104682e-03, 9.96708953e-01],\n",
              "       [9.58721930e-01, 4.12780696e-02],\n",
              "       [9.99111762e-01, 8.88237903e-04],\n",
              "       [1.83550394e-02, 9.81644961e-01],\n",
              "       [9.84435654e-01, 1.55643465e-02],\n",
              "       [9.39309917e-01, 6.06900828e-02],\n",
              "       [1.04750632e-02, 9.89524937e-01],\n",
              "       [9.32830825e-01, 6.71691751e-02],\n",
              "       [9.95599749e-01, 4.40025087e-03],\n",
              "       [5.35255870e-03, 9.94647441e-01],\n",
              "       [9.83225985e-01, 1.67740146e-02],\n",
              "       [2.89221357e-03, 9.97107786e-01],\n",
              "       [9.92932141e-01, 7.06785950e-03],\n",
              "       [9.97714262e-01, 2.28573755e-03],\n",
              "       [1.02106506e-02, 9.89789349e-01],\n",
              "       [9.78872348e-01, 2.11276520e-02],\n",
              "       [7.68483527e-03, 9.92315165e-01],\n",
              "       [1.22110760e-02, 9.87788924e-01],\n",
              "       [9.97187727e-01, 2.81227330e-03],\n",
              "       [8.56747000e-04, 9.99143253e-01],\n",
              "       [3.51091960e-03, 9.96489080e-01],\n",
              "       [1.56057634e-02, 9.84394237e-01],\n",
              "       [9.63295134e-01, 3.67048656e-02],\n",
              "       [9.97100596e-01, 2.89940408e-03],\n",
              "       [9.97012988e-01, 2.98701202e-03],\n",
              "       [1.99474727e-03, 9.98005253e-01],\n",
              "       [9.91807867e-01, 8.19213292e-03],\n",
              "       [9.86314652e-01, 1.36853482e-02],\n",
              "       [5.52203498e-03, 9.94477965e-01],\n",
              "       [3.52656039e-03, 9.96473440e-01],\n",
              "       [9.87235927e-01, 1.27640731e-02],\n",
              "       [1.36959215e-02, 9.86304079e-01],\n",
              "       [1.08289219e-03, 9.98917108e-01],\n",
              "       [9.91296637e-01, 8.70336271e-03],\n",
              "       [9.92186470e-01, 7.81352984e-03],\n",
              "       [9.99700133e-01, 2.99867370e-04],\n",
              "       [9.94616004e-01, 5.38399575e-03],\n",
              "       [5.67786577e-03, 9.94322134e-01],\n",
              "       [1.32215881e-02, 9.86778412e-01],\n",
              "       [9.98389629e-01, 1.61037066e-03],\n",
              "       [9.88505934e-01, 1.14940659e-02],\n",
              "       [4.02049409e-03, 9.95979506e-01],\n",
              "       [2.73042158e-03, 9.97269578e-01],\n",
              "       [9.99952307e-01, 4.76933481e-05],\n",
              "       [1.17195560e-02, 9.88280444e-01],\n",
              "       [9.93779312e-01, 6.22068769e-03],\n",
              "       [1.71830020e-03, 9.98281700e-01],\n",
              "       [3.57860338e-03, 9.96421397e-01],\n",
              "       [9.97783913e-01, 2.21608740e-03],\n",
              "       [2.24799771e-03, 9.97752002e-01],\n",
              "       [9.98742915e-01, 1.25708509e-03],\n",
              "       [9.02622456e-01, 9.73775439e-02],\n",
              "       [9.77182135e-01, 2.28178653e-02],\n",
              "       [9.99958471e-01, 4.15285884e-05],\n",
              "       [1.45311300e-02, 9.85468870e-01],\n",
              "       [9.91148839e-01, 8.85116055e-03],\n",
              "       [9.96685322e-01, 3.31467829e-03],\n",
              "       [1.06010060e-02, 9.89398994e-01],\n",
              "       [9.94680642e-01, 5.31935832e-03],\n",
              "       [9.97750399e-01, 2.24960126e-03],\n",
              "       [9.99155649e-01, 8.44350818e-04],\n",
              "       [9.99835439e-01, 1.64560982e-04],\n",
              "       [8.33096765e-03, 9.91669032e-01],\n",
              "       [9.99192916e-01, 8.07084043e-04],\n",
              "       [9.87059899e-01, 1.29401011e-02],\n",
              "       [9.98551030e-01, 1.44897039e-03],\n",
              "       [9.93365515e-01, 6.63448473e-03],\n",
              "       [9.98824015e-01, 1.17598482e-03],\n",
              "       [9.77059265e-01, 2.29407354e-02],\n",
              "       [9.95363043e-01, 4.63695678e-03],\n",
              "       [3.05111153e-03, 9.96948888e-01],\n",
              "       [3.69183740e-03, 9.96308163e-01],\n",
              "       [1.07861858e-02, 9.89213814e-01],\n",
              "       [5.32778280e-03, 9.94672217e-01],\n",
              "       [9.99348127e-01, 6.51872936e-04],\n",
              "       [9.95755234e-01, 4.24476603e-03],\n",
              "       [1.49521499e-02, 9.85047850e-01],\n",
              "       [1.18449455e-02, 9.88155054e-01],\n",
              "       [1.38292509e-03, 9.98617075e-01],\n",
              "       [8.83119405e-03, 9.91168806e-01],\n",
              "       [1.09775601e-02, 9.89022440e-01],\n",
              "       [9.81012961e-01, 1.89870393e-02],\n",
              "       [9.97449090e-01, 2.55091048e-03],\n",
              "       [2.38567677e-03, 9.97614323e-01],\n",
              "       [2.06355991e-03, 9.97936440e-01],\n",
              "       [1.88211969e-03, 9.98117880e-01],\n",
              "       [2.19455866e-02, 9.78054413e-01],\n",
              "       [9.88744429e-01, 1.12555705e-02],\n",
              "       [5.01854381e-03, 9.94981456e-01],\n",
              "       [2.71293179e-03, 9.97287068e-01],\n",
              "       [2.09533029e-02, 9.79046697e-01],\n",
              "       [1.74674697e-03, 9.98253253e-01],\n",
              "       [9.15751128e-04, 9.99084249e-01],\n",
              "       [9.92050340e-01, 7.94965975e-03],\n",
              "       [3.87645575e-03, 9.96123544e-01],\n",
              "       [1.04279884e-02, 9.89572012e-01],\n",
              "       [9.99702024e-01, 2.97976061e-04],\n",
              "       [9.97869269e-01, 2.13073146e-03],\n",
              "       [7.47356387e-03, 9.92526436e-01],\n",
              "       [3.03906456e-03, 9.96960935e-01],\n",
              "       [1.40434156e-02, 9.85956584e-01],\n",
              "       [1.84848742e-03, 9.98151513e-01],\n",
              "       [3.80887129e-03, 9.96191129e-01],\n",
              "       [2.34764712e-02, 9.76523529e-01],\n",
              "       [2.48044705e-03, 9.97519553e-01],\n",
              "       [6.93889888e-04, 9.99306110e-01],\n",
              "       [9.99698961e-01, 3.01038528e-04],\n",
              "       [3.15375172e-03, 9.96846248e-01],\n",
              "       [4.21748399e-03, 9.95782516e-01],\n",
              "       [1.38617494e-03, 9.98613825e-01],\n",
              "       [4.58619475e-03, 9.95413805e-01],\n",
              "       [9.67747975e-01, 3.22520250e-02],\n",
              "       [3.72445684e-02, 9.62755432e-01],\n",
              "       [9.98924774e-01, 1.07522617e-03],\n",
              "       [2.17275508e-03, 9.97827245e-01],\n",
              "       [4.26726487e-03, 9.95732735e-01],\n",
              "       [3.56906919e-03, 9.96430931e-01],\n",
              "       [9.97265205e-01, 2.73479532e-03],\n",
              "       [9.46853494e-01, 5.31465064e-02],\n",
              "       [4.67723598e-02, 9.53227640e-01],\n",
              "       [2.49085320e-02, 9.75091468e-01],\n",
              "       [9.95927946e-01, 4.07205353e-03],\n",
              "       [1.82212711e-03, 9.98177873e-01],\n",
              "       [9.99923980e-01, 7.60199548e-05],\n",
              "       [1.84571848e-02, 9.81542815e-01],\n",
              "       [5.79507757e-03, 9.94204922e-01],\n",
              "       [3.86883136e-03, 9.96131169e-01],\n",
              "       [5.99907098e-04, 9.99400093e-01],\n",
              "       [7.70396396e-03, 9.92296036e-01],\n",
              "       [9.99339305e-01, 6.60695033e-04],\n",
              "       [8.70337692e-01, 1.29662308e-01],\n",
              "       [9.97580920e-01, 2.41908006e-03],\n",
              "       [9.99122344e-01, 8.77655660e-04],\n",
              "       [4.66663176e-02, 9.53333682e-01],\n",
              "       [1.93840786e-04, 9.99806159e-01],\n",
              "       [3.68944636e-03, 9.96310554e-01],\n",
              "       [2.98643600e-02, 9.70135640e-01],\n",
              "       [2.63524005e-03, 9.97364760e-01],\n",
              "       [1.20865484e-02, 9.87913452e-01],\n",
              "       [2.00100858e-02, 9.79989914e-01],\n",
              "       [7.38414495e-03, 9.92615855e-01],\n",
              "       [3.50525260e-03, 9.96494747e-01],\n",
              "       [9.98570945e-01, 1.42905529e-03],\n",
              "       [1.12387674e-02, 9.88761233e-01],\n",
              "       [9.50496765e-03, 9.90495032e-01],\n",
              "       [1.78152130e-02, 9.82184787e-01],\n",
              "       [5.23557485e-03, 9.94764425e-01],\n",
              "       [1.80546603e-03, 9.98194534e-01],\n",
              "       [9.91445068e-01, 8.55493156e-03],\n",
              "       [9.96236998e-01, 3.76300223e-03],\n",
              "       [9.99761169e-01, 2.38831060e-04],\n",
              "       [9.98945153e-01, 1.05484709e-03],\n",
              "       [9.92448090e-01, 7.55190954e-03],\n",
              "       [9.49583568e-03, 9.90504164e-01],\n",
              "       [9.99084323e-01, 9.15677338e-04],\n",
              "       [9.78703998e-01, 2.12960022e-02],\n",
              "       [9.99573175e-01, 4.26825145e-04],\n",
              "       [1.21179652e-03, 9.98788203e-01],\n",
              "       [6.19394995e-03, 9.93806050e-01],\n",
              "       [9.99967959e-01, 3.20412787e-05],\n",
              "       [9.99942182e-01, 5.78181687e-05],\n",
              "       [1.88767590e-03, 9.98112324e-01],\n",
              "       [9.97549286e-01, 2.45071404e-03],\n",
              "       [9.99923301e-01, 7.66993884e-05],\n",
              "       [9.40507534e-01, 5.94924665e-02],\n",
              "       [1.68069069e-02, 9.83193093e-01],\n",
              "       [9.36023596e-03, 9.90639764e-01],\n",
              "       [9.98363010e-01, 1.63699023e-03],\n",
              "       [9.98330662e-01, 1.66933820e-03],\n",
              "       [9.99852640e-01, 1.47359584e-04],\n",
              "       [9.99883692e-01, 1.16308447e-04],\n",
              "       [9.98039220e-01, 1.96077962e-03],\n",
              "       [1.71883167e-03, 9.98281168e-01],\n",
              "       [9.85550613e-01, 1.44493874e-02],\n",
              "       [1.59748441e-03, 9.98402516e-01],\n",
              "       [9.97843786e-01, 2.15621447e-03],\n",
              "       [9.98204301e-01, 1.79569866e-03],\n",
              "       [9.96633348e-01, 3.36665224e-03],\n",
              "       [1.27660816e-03, 9.98723392e-01],\n",
              "       [1.35689638e-03, 9.98643104e-01],\n",
              "       [5.25604958e-03, 9.94743950e-01],\n",
              "       [6.77954424e-03, 9.93220456e-01],\n",
              "       [6.07292566e-03, 9.93927074e-01],\n",
              "       [2.71937436e-03, 9.97280626e-01],\n",
              "       [9.98666665e-01, 1.33333470e-03],\n",
              "       [9.49242743e-01, 5.07572571e-02],\n",
              "       [9.99489991e-01, 5.10008902e-04],\n",
              "       [9.96752048e-01, 3.24795246e-03],\n",
              "       [2.02064618e-03, 9.97979354e-01],\n",
              "       [3.28207350e-03, 9.96717926e-01],\n",
              "       [9.85941167e-01, 1.40588332e-02],\n",
              "       [9.96346730e-01, 3.65326994e-03],\n",
              "       [3.68124105e-03, 9.96318759e-01],\n",
              "       [9.99427823e-01, 5.72177378e-04],\n",
              "       [9.69717568e-01, 3.02824324e-02],\n",
              "       [2.63868780e-02, 9.73613122e-01],\n",
              "       [9.96477995e-01, 3.52200536e-03],\n",
              "       [9.94535127e-01, 5.46487341e-03],\n",
              "       [2.61100197e-03, 9.97388998e-01],\n",
              "       [9.99325109e-01, 6.74891331e-04],\n",
              "       [9.74714690e-01, 2.52853103e-02],\n",
              "       [7.88058181e-03, 9.92119418e-01],\n",
              "       [9.99401204e-01, 5.98796395e-04],\n",
              "       [9.92457183e-01, 7.54281716e-03],\n",
              "       [9.92881952e-01, 7.11804775e-03],\n",
              "       [9.99273878e-01, 7.26121644e-04],\n",
              "       [5.02238086e-03, 9.94977619e-01],\n",
              "       [7.82804813e-03, 9.92171952e-01],\n",
              "       [3.23532755e-03, 9.96764672e-01],\n",
              "       [3.53609832e-03, 9.96463902e-01],\n",
              "       [2.59684229e-02, 9.74031577e-01],\n",
              "       [1.81821579e-02, 9.81817842e-01],\n",
              "       [9.98463781e-01, 1.53621911e-03],\n",
              "       [9.92529170e-01, 7.47083016e-03]])"
            ]
          },
          "execution_count": 16,
          "metadata": {},
          "output_type": "execute_result"
        }
      ],
      "source": [
        "#Tu turno ...\n",
        "classifier.predict_proba(X)\n"
      ]
    },
    {
      "cell_type": "markdown",
      "metadata": {
        "id": "2-_F9SA3zaC-"
      },
      "source": [
        "3. Obtenga los pesos del modelo lineal, utilicelos para graficaar la frontera de decisión\n",
        "\n",
        "*Pistas:*\n",
        "- *Considere los atributos `.coef` y `.intercept_` del regresor logístico.*\n",
        "- *La función sigmoide toca el umbral 0.5 cuando el modelo lineal vale 0, $\\sigma(0)=0.5$. Sabiendo esto, valerse de la función de ploteo utilizada anterioremente*"
      ]
    },
    {
      "cell_type": "code",
      "execution_count": 17,
      "metadata": {
        "id": "qbCvFVdEzaC-",
        "tags": []
      },
      "outputs": [
        {
          "data": {
            "text/plain": [
              "array([[ 3.26629969, -2.55750847]])"
            ]
          },
          "execution_count": 17,
          "metadata": {},
          "output_type": "execute_result"
        }
      ],
      "source": [
        "classifier.coef_\n"
      ]
    },
    {
      "cell_type": "code",
      "execution_count": 18,
      "metadata": {},
      "outputs": [
        {
          "data": {
            "text/plain": [
              "array([5.33651512])"
            ]
          },
          "execution_count": 18,
          "metadata": {},
          "output_type": "execute_result"
        }
      ],
      "source": [
        "classifier.intercept_\n"
      ]
    },
    {
      "cell_type": "code",
      "execution_count": 19,
      "metadata": {},
      "outputs": [
        {
          "data": {
            "text/plain": [
              "array([[200,   0],\n",
              "       [  0, 250]])"
            ]
          },
          "execution_count": 19,
          "metadata": {},
          "output_type": "execute_result"
        }
      ],
      "source": [
        "from sklearn.metrics import confusion_matrix\n",
        "cf_matrix = confusion_matrix(y, y_pred)\n",
        "cf_matrix\n"
      ]
    },
    {
      "cell_type": "code",
      "execution_count": 20,
      "metadata": {},
      "outputs": [
        {
          "data": {
            "text/plain": [
              "Text(0.5, 23.52222222222222, 'Predicted label')"
            ]
          },
          "execution_count": 20,
          "metadata": {},
          "output_type": "execute_result"
        },
        {
          "data": {
            "image/png": "[encoded data removed]",
            "text/plain": [
              "<Figure size 640x480 with 2 Axes>"
            ]
          },
          "metadata": {},
          "output_type": "display_data"
        }
      ],
      "source": [
        "sns.heatmap(pd.DataFrame(cf_matrix), annot=True, cmap=\"YlGnBu\", fmt='g')\n",
        "plt.title('Confusion matrix', y=1.1)\n",
        "plt.ylabel('Actual label')\n",
        "plt.xlabel('Predicted label')\n"
      ]
    },
    {
      "cell_type": "markdown",
      "metadata": {
        "id": "BtRiTV0AzaC-"
      },
      "source": [
        "### Formulario de asistencia\n",
        "\n",
        "Por favor, no olviden completar el siguiente formulario antes del miércoles 05/04 a la 23:59.\n",
        "\n",
        "https://forms.gle/EQ3UMLK1BzaZschU7"
      ]
    },
    {
      "cell_type": "markdown",
      "metadata": {
        "id": "7_3b9ml4zaC-"
      },
      "source": [
        "# Extra: Dataset de EcoBicis\n",
        "\n",
        "Utilizando el dataset de la clase anterior (Ecobicis):\n",
        "\n",
        "1. Elija una variable objetivo binaria que considere interesante\n",
        "2. Prepare el dataset para un problema de clasificación. Elija los features, preproceselos y separelos en una matrix `X` de la variable objetivo en un nuevo `t`.\n",
        "3. Entrene un Regresor Logístico sobre el set de datos. \n",
        "4. Evalúe exactitud (porcentaje de predicciones correctas) de su modelo sobre el set de entrenamiento.\n"
      ]
    },
    {
      "cell_type": "code",
      "execution_count": 24,
      "metadata": {
        "id": "o43zOGWyzaC-"
      },
      "outputs": [],
      "source": [
        "# Tu turno...\n",
        "bicis = pd.read_csv('../guia2/IAA_Guia_2_data.csv')"
      ]
    },
    {
      "cell_type": "code",
      "execution_count": 25,
      "metadata": {},
      "outputs": [
        {
          "data": {
            "text/plain": [
              "Index(['Date', 'Viajes', 'PRCP', 'TMAX', 'TMIN', 'TAVG'], dtype='object')"
            ]
          },
          "execution_count": 25,
          "metadata": {},
          "output_type": "execute_result"
        }
      ],
      "source": [
        "bicis.columns"
      ]
    },
    {
      "cell_type": "code",
      "execution_count": null,
      "metadata": {},
      "outputs": [],
      "source": []
    }
  ],
  "metadata": {
    "colab": {
      "collapsed_sections": [
        "mUWBHPaYzaC4"
      ],
      "provenance": []
    },
    "kernelspec": {
      "display_name": "Python 3 (ipykernel)",
      "language": "python",
      "name": "python3"
    },
    "language_info": {
      "codemirror_mode": {
        "name": "ipython",
        "version": 3
      },
      "file_extension": ".py",
      "mimetype": "text/x-python",
      "name": "python",
      "nbconvert_exporter": "python",
      "pygments_lexer": "ipython3",
      "version": "3.10.10"
    },
    "vscode": {
      "interpreter": {
        "hash": "964b008cb5ef2a660594f048d86c2599bd9046de6f673691130e1855aa2f0225"
      }
    }
  },
  "nbformat": 4,
  "nbformat_minor": 0
}
