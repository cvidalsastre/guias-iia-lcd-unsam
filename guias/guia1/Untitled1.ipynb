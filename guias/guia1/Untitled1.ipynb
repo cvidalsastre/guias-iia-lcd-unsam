{
  "cells": [
    {
      "cell_type": "code",
      "execution_count": null,
      "metadata": {
        "id": "FOcFTVIpUvqH"
      },
      "outputs": [],
      "source": [
        "import numpy as np\n",
        "import pandas as pd\n",
        "\n",
        "### LIBRERIAS PARA GRAFICAR\n",
        "import matplotlib.pyplot as plt\n",
        "import seaborn as sns"
      ]
    },
    {
      "cell_type": "code",
      "execution_count": 1,
      "metadata": {
        "colab": {
          "base_uri": "https://localhost:8080/"
        },
        "id": "K4DrxCD5UxPA",
        "outputId": "7b0f9aa1-7f1b-48be-bb1b-f01bb6e78f85"
      },
      "outputs": [
        {
          "name": "stdout",
          "output_type": "stream",
          "text": [
            "--2023-04-04 18:35:03--  https://github.com/LCD-UNSAM/iaa2023c1/raw/main/datasets/recorridos-realizados-2018.zip\n",
            "Loaded CA certificate '/etc/ssl/certs/ca-certificates.crt'\n",
            "Resolving github.com (github.com)... 20.201.28.151\n",
            "Connecting to github.com (github.com)|20.201.28.151|:443... connected.\n",
            "HTTP request sent, awaiting response... 302 Found\n",
            "Location: https://raw.githubusercontent.com/LCD-UNSAM/iaa2023c1/main/datasets/recorridos-realizados-2018.zip [following]\n",
            "--2023-04-04 18:35:04--  https://raw.githubusercontent.com/LCD-UNSAM/iaa2023c1/main/datasets/recorridos-realizados-2018.zip\n",
            "Resolving raw.githubusercontent.com (raw.githubusercontent.com)... 2606:50c0:8002::154, 2606:50c0:8000::154, 2606:50c0:8001::154, ...\n",
            "Connecting to raw.githubusercontent.com (raw.githubusercontent.com)|2606:50c0:8002::154|:443... connected.\n",
            "HTTP request sent, awaiting response... 200 OK\n",
            "Length: 98984919 (94M) [application/zip]\n",
            "Saving to: ‘recorridos-realizados-2018.zip’\n",
            "\n",
            "recorridos-realizad 100%[===================>]  94,40M  8,49MB/s    in 7,4s    \n",
            "\n",
            "2023-04-04 18:35:14 (12,8 MB/s) - ‘recorridos-realizados-2018.zip’ saved [98984919/98984919]\n",
            "\n"
          ]
        }
      ],
      "source": [
        "!wget https://github.com/LCD-UNSAM/iaa2023c1/raw/main/datasets/recorridos-realizados-2018.zip"
      ]
    },
    {
      "cell_type": "code",
      "execution_count": null,
      "metadata": {
        "id": "_T1UuFb0U0il"
      },
      "outputs": [],
      "source": [
        "data = pd.read_csv('recorridos-realizados-2018.zip')"
      ]
    },
    {
      "cell_type": "markdown",
      "metadata": {
        "id": "rCm1VP3VU07V"
      },
      "source": [
        "bicis = bicis.iloc[1:10]"
      ]
    },
    {
      "cell_type": "code",
      "execution_count": null,
      "metadata": {
        "colab": {
          "base_uri": "https://localhost:8080/"
        },
        "id": "Vza3K9X3eDZ7",
        "outputId": "5f394aaf-7663-409d-8067-bbd9e5a52030"
      },
      "outputs": [
        {
          "name": "stdout",
          "output_type": "stream",
          "text": [
            "<class 'pandas.core.frame.DataFrame'>\n",
            "RangeIndex: 5 entries, 0 to 4\n",
            "Data columns (total 16 columns):\n",
            " #   Column                      Non-Null Count  Dtype  \n",
            "---  ------                      --------------  -----  \n",
            " 0   periodo                     5 non-null      int64  \n",
            " 1   id_usuario                  5 non-null      int64  \n",
            " 2   genero_usuario              5 non-null      object \n",
            " 3   fecha_origen_recorrido      5 non-null      object \n",
            " 4   id_estacion_origen          5 non-null      float64\n",
            " 5   nombre_estacion_origen      5 non-null      object \n",
            " 6   long_estacion_origen        5 non-null      float64\n",
            " 7   lat_estacion_origen         5 non-null      float64\n",
            " 8   domicilio_estacion_origen   5 non-null      object \n",
            " 9   duracion_recorrido          5 non-null      object \n",
            " 10  fecha_destino_recorrido     5 non-null      object \n",
            " 11  id_estacion_destino         5 non-null      float64\n",
            " 12  nombre_estacion_destino     5 non-null      object \n",
            " 13  long_estacion_destino       5 non-null      float64\n",
            " 14  lat_estacion_destino        5 non-null      float64\n",
            " 15  domicilio_estacion_destino  5 non-null      object \n",
            "dtypes: float64(6), int64(2), object(8)\n",
            "memory usage: 768.0+ bytes\n"
          ]
        }
      ],
      "source": [
        "bicis = data.iloc[:5]\n",
        "bicis.info()\n",
        "# bicis"
      ]
    },
    {
      "cell_type": "code",
      "execution_count": null,
      "metadata": {
        "id": "G96gcz8_eIar"
      },
      "outputs": [],
      "source": [
        "parsedBicis =  ''\n"
      ]
    },
    {
      "cell_type": "code",
      "execution_count": null,
      "metadata": {
        "colab": {
          "base_uri": "https://localhost:8080/"
        },
        "id": "-nxK4QlIVA91",
        "outputId": "8fe4a024-e6a5-4f3f-bdcd-804aeb40c3c4"
      },
      "outputs": [
        {
          "data": {
            "text/plain": [
              "<pandas.core.groupby.generic.DataFrameGroupBy object at 0x7eff27842ac0>"
            ]
          },
          "execution_count": 20,
          "metadata": {},
          "output_type": "execute_result"
        }
      ],
      "source": [
        "\n"
      ]
    },
    {
      "cell_type": "code",
      "execution_count": null,
      "metadata": {
        "colab": {
          "base_uri": "https://localhost:8080/",
          "height": 297
        },
        "id": "zo3mC1-LVHnN",
        "outputId": "fb43c9a4-7243-4ef5-b623-60b8cd86526b"
      },
      "outputs": [
        {
          "data": {
            "text/plain": [
              "<Axes: xlabel='periodo', ylabel='duracion_recorrido'>"
            ]
          },
          "execution_count": 27,
          "metadata": {},
          "output_type": "execute_result"
        },
        {
          "data": {
            "image/png": "[encoded data removed]",
            "text/plain": [
              "<Figure size 432x288 with 1 Axes>"
            ]
          },
          "metadata": {
            "needs_background": "light"
          },
          "output_type": "display_data"
        }
      ],
      "source": [
        "sns.violinplot(data=bicis,x=\"periodo\",y=\"duracion_recorrido\")"
      ]
    },
    {
      "cell_type": "code",
      "execution_count": null,
      "metadata": {
        "id": "7NVpimGmVt0D"
      },
      "outputs": [],
      "source": []
    }
  ],
  "metadata": {
    "colab": {
      "provenance": []
    },
    "kernelspec": {
      "display_name": "Python 3",
      "name": "python3"
    },
    "language_info": {
      "codemirror_mode": {
        "name": "ipython",
        "version": 3
      },
      "file_extension": ".py",
      "mimetype": "text/x-python",
      "name": "python",
      "nbconvert_exporter": "python",
      "pygments_lexer": "ipython3",
      "version": "3.10.10"
    }
  },
  "nbformat": 4,
  "nbformat_minor": 0
}
