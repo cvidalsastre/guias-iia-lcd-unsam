{
  "cells": [
    {
      "cell_type": "markdown",
      "metadata": {
        "id": "ItvC5vi88Pgi"
      },
      "source": [
        "# Image Classification using `sklearn.svm`"
      ]
    },
    {
      "cell_type": "code",
      "execution_count": 147,
      "metadata": {
        "id": "wLaVuaLE8Pgj"
      },
      "outputs": [],
      "source": [
        "from pathlib import Path\n",
        "import matplotlib.pyplot as plt\n",
        "import numpy as np\n",
        "%matplotlib notebook\n",
        "from sklearn import svm, metrics, datasets\n",
        "from sklearn.utils import Bunch\n",
        "from sklearn.model_selection import GridSearchCV, train_test_split\n",
        "\n",
        "from skimage.io import imread\n",
        "from skimage.transform import resize\n",
        "import skimage"
      ]
    },
    {
      "cell_type": "markdown",
      "metadata": {
        "id": "gIrL2fGA8Pgk"
      },
      "source": [
        "### Load images in structured directory like it's sklearn sample dataset"
      ]
    },
    {
      "cell_type": "code",
      "execution_count": 148,
      "metadata": {
        "id": "9lw0UAoO8Pgk"
      },
      "outputs": [],
      "source": [
        "def load_image_files(container_path, dimension=(64, 64)):\n",
        "    \"\"\"\n",
        "    Load image files with categories as subfolder names \n",
        "    which performs like scikit-learn sample dataset\n",
        "    \n",
        "    Parameters\n",
        "    ----------\n",
        "    container_path : string or unicode\n",
        "        Path to the main folder holding one subfolder per category\n",
        "    dimension : tuple\n",
        "        size to which image are adjusted to\n",
        "        \n",
        "    Returns\n",
        "    -------\n",
        "    Bunch\n",
        "    \"\"\"\n",
        "    image_dir = Path(container_path)\n",
        "    folders = [directory for directory in image_dir.iterdir() if directory.is_dir()]\n",
        "    # print('folders before cut',folders)\n",
        "    folders = folders[1:]\n",
        "    categories = [fo.name for fo in folders]\n",
        "    # print('categories',categories)\n",
        "    # print('folders',folders)\n",
        "    descr = \"A image classification dataset\"\n",
        "    images = []\n",
        "    flat_data = []\n",
        "    target = []\n",
        "    for i, direc in enumerate(folders):\n",
        "        # print('direc,',direc)\n",
        "        # print('iterdir',direc.iterdir())\n",
        "        for file in direc.iterdir(): \n",
        "            # print('file:','.ipynb_checkpoints' in str(file))\n",
        "            if '.ipynb_checkpoints' not in str(file):\n",
        "              # print(file)\n",
        "              img = skimage.io.imread(file)\n",
        "              # print(img.shape)\n",
        "              img_resized = resize(img, dimension, anti_aliasing=True, mode='reflect')\n",
        "              print(img_resized.shape)\n",
        "              flat_data.append(img_resized.flatten()) \n",
        "              images.append(img_resized)\n",
        "              target.append(i)\n",
        "\n",
        "    # print('into np array',images)\n",
        "    flat_data = np.array(flat_data)\n",
        "    target = np.array(target)\n",
        "    # images = np.array(images)\n",
        "\n",
        "    return Bunch(data=flat_data,\n",
        "                 target=target,\n",
        "                 target_names=categories,\n",
        "                 images=images,\n",
        "                 DESCR=descr)"
      ]
    },
    {
      "cell_type": "code",
      "execution_count": 149,
      "metadata": {
        "scrolled": true,
        "colab": {
          "base_uri": "https://localhost:8080/",
          "height": 486
        },
        "id": "6BX5tg048Pgk",
        "outputId": "54fe7ee3-81be-46a1-df84-81a8afae30ea"
      },
      "outputs": [
        {
          "output_type": "stream",
          "name": "stdout",
          "text": [
            "(64, 64, 3)\n",
            "(64, 64, 3)\n",
            "(64, 64, 3)\n",
            "(64, 64, 3)\n",
            "(64, 64, 3)\n",
            "(64, 64, 3)\n",
            "(64, 64, 3)\n",
            "(64, 64, 3)\n",
            "(64, 64, 3)\n",
            "(64, 64, 3)\n",
            "(64, 64, 3)\n",
            "(64, 64, 3)\n",
            "(64, 64, 3)\n",
            "(64, 64, 3)\n",
            "(64, 64, 3)\n",
            "(64, 64, 3)\n",
            "(64, 64, 3)\n",
            "(64, 64, 3)\n",
            "(64, 64, 3)\n",
            "(64, 64, 3)\n",
            "(64, 64, 3)\n",
            "(64, 64, 3)\n",
            "(64, 64, 3)\n",
            "(64, 64, 3)\n",
            "(64, 64, 3)\n",
            "(64, 64, 3)\n"
          ]
        }
      ],
      "source": [
        "image_dataset = load_image_files(\"/content/images2\")\n",
        "# image_dataset\n"
      ]
    },
    {
      "cell_type": "markdown",
      "metadata": {
        "id": "SghlJKUR8Pgk"
      },
      "source": [
        "### Split data"
      ]
    },
    {
      "cell_type": "code",
      "execution_count": 150,
      "metadata": {
        "id": "U1cVklZc8Pgk"
      },
      "outputs": [],
      "source": [
        "X_train, X_test, y_train, y_test = train_test_split(\n",
        "    image_dataset.data, image_dataset.target, test_size=0.3,random_state=109)"
      ]
    },
    {
      "cell_type": "markdown",
      "metadata": {
        "id": "zlzInNv-8Pgl"
      },
      "source": [
        "### Train data with parameter optimization"
      ]
    },
    {
      "cell_type": "code",
      "execution_count": 151,
      "metadata": {
        "colab": {
          "base_uri": "https://localhost:8080/",
          "height": 91
        },
        "id": "3Hz700bB8Pgl",
        "outputId": "6d596903-4737-48a0-c387-37ca347ed7a0"
      },
      "outputs": [
        {
          "output_type": "stream",
          "name": "stderr",
          "text": [
            "/usr/local/lib/python3.9/dist-packages/sklearn/model_selection/_split.py:700: UserWarning: The least populated class in y has only 4 members, which is less than n_splits=5.\n",
            "  warnings.warn(\n"
          ]
        },
        {
          "output_type": "stream",
          "name": "stdout",
          "text": [
            "0.7777777777777778 0.625\n"
          ]
        }
      ],
      "source": [
        "param_grid = [\n",
        "  {'C': [1, 10, 100, 1000,2000], 'kernel': ['linear']},\n",
        "  {'C': [1, 10, 100, 1000,2000], 'gamma': [0.001, 0.0001], 'kernel': ['rbf']},\n",
        " ]\n",
        "# param_grid = [\n",
        "#   {'C': [0.01, 0.1, 1, 10, 100, 1000, 10000], 'kernel': ['linear']},\n",
        "#   {'C': [0.01, 0.1, 1, 10, 100, 1000, 10000], 'gamma': [0.00001, 0.0001, 0.001, 0.01, 0.1, 1, 10], 'kernel': ['rbf']},\n",
        "#  ]\n",
        "# param_grid = [\n",
        "#   {'C': [1, 10, 100, 1000,2000], 'kernel': ['linear']},\n",
        "#   {'C': [1, 10, 100, 1000,2000], 'gamma': [0.001, 0.0001], 'kernel': ['rbf']},\n",
        "#   {'C': [1, 10, 100, 1000], 'kernel': ['poly'], 'degree': [2, 3, 4,6,10]},\n",
        "#   {'C': [1, 10, 100, 1000], 'kernel': ['sigmoid'], 'coef0': [0.0, 0.5, 1.0]}\n",
        "#  ]\n",
        "svc = svm.SVC()\n",
        "# clf = GridSearchCV(svc, param_grid,cv=2)\n",
        "clf = GridSearchCV(svc, param_grid)\n",
        "\n",
        "clf.fit(X_train, y_train)\n",
        "print(clf.score(X_train,y_train),clf.score(X_test,y_test))"
      ]
    },
    {
      "cell_type": "markdown",
      "metadata": {
        "id": "nFCIA4Oj8Pgl"
      },
      "source": [
        "### Predict"
      ]
    },
    {
      "cell_type": "markdown",
      "metadata": {
        "id": "gwtdAE0A8Pgl"
      },
      "source": [
        "### Report"
      ]
    },
    {
      "cell_type": "code",
      "execution_count": 152,
      "metadata": {
        "colab": {
          "base_uri": "https://localhost:8080/",
          "height": 415
        },
        "id": "uwVAM5ov8Pgm",
        "outputId": "8aa52ed5-4679-4be3-e1a7-81c578ca9f9a"
      },
      "outputs": [
        {
          "output_type": "stream",
          "name": "stdout",
          "text": [
            "Classification report for - \n",
            "GridSearchCV(estimator=SVC(),\n",
            "             param_grid=[{'C': [1, 10, 100, 1000, 2000], 'kernel': ['linear']},\n",
            "                         {'C': [1, 10, 100, 1000, 2000],\n",
            "                          'gamma': [0.001, 0.0001], 'kernel': ['rbf']}]):\n",
            "              precision    recall  f1-score   support\n",
            "\n",
            "           0       0.62      1.00      0.77         5\n",
            "           1       0.00      0.00      0.00         3\n",
            "\n",
            "    accuracy                           0.62         8\n",
            "   macro avg       0.31      0.50      0.38         8\n",
            "weighted avg       0.39      0.62      0.48         8\n",
            "\n",
            "\n"
          ]
        },
        {
          "output_type": "stream",
          "name": "stderr",
          "text": [
            "/usr/local/lib/python3.9/dist-packages/sklearn/metrics/_classification.py:1344: UndefinedMetricWarning: Precision and F-score are ill-defined and being set to 0.0 in labels with no predicted samples. Use `zero_division` parameter to control this behavior.\n",
            "  _warn_prf(average, modifier, msg_start, len(result))\n",
            "/usr/local/lib/python3.9/dist-packages/sklearn/metrics/_classification.py:1344: UndefinedMetricWarning: Precision and F-score are ill-defined and being set to 0.0 in labels with no predicted samples. Use `zero_division` parameter to control this behavior.\n",
            "  _warn_prf(average, modifier, msg_start, len(result))\n",
            "/usr/local/lib/python3.9/dist-packages/sklearn/metrics/_classification.py:1344: UndefinedMetricWarning: Precision and F-score are ill-defined and being set to 0.0 in labels with no predicted samples. Use `zero_division` parameter to control this behavior.\n",
            "  _warn_prf(average, modifier, msg_start, len(result))\n"
          ]
        }
      ],
      "source": [
        "y_pred = clf.predict(X_test)\n",
        "print(\"Classification report for - \\n{}:\\n{}\\n\".format(\n",
        "    clf, metrics.classification_report(y_test, y_pred)))"
      ]
    },
    {
      "cell_type": "code",
      "source": [
        "from sklearn.neural_network import MLPClassifier\n",
        "\n",
        "clf2 = MLPClassifier(solver='lbfgs', alpha=1e-5,\n",
        "                     hidden_layer_sizes=(10, 20, 10), random_state=20)\n",
        "clf2.fit(X_train, y_train)\n",
        "from sklearn.metrics import accuracy_score\n",
        "\n",
        "# 10, 20, 10\n",
        "# 50,\n",
        "test_acc=accuracy_score(clf2.predict(X_test), y_test)\n",
        "# val_acc=accuracy_score(clf.predict(X_test), y_test)\n",
        "train_acc=accuracy_score(clf2.predict(X_train), y_train)\n",
        "print(f'train acc: {train_acc}')\n",
        "print(f'y_train:{y_train}')\n",
        "print(f'y_train_test:{clf2.predict(X_train)}')\n",
        "# print(f'val acc: {val_acc}')\n",
        "print(f'test acc: {test_acc}')\n",
        "print(f'y_test:{y_test}')\n",
        "print(f'y_pred_test:{clf2.predict(X_test)}')\n",
        "# plot_regions(clf, X_val, y_val)\n",
        "# clf.coefs_"
      ],
      "metadata": {
        "colab": {
          "base_uri": "https://localhost:8080/",
          "height": 125
        },
        "id": "mo8EDySyWP7N",
        "outputId": "b5f4dcc8-a288-490b-ca6a-6c853150f00e"
      },
      "execution_count": 153,
      "outputs": [
        {
          "output_type": "stream",
          "name": "stdout",
          "text": [
            "train acc: 1.0\n",
            "y_train:[1 1 0 0 0 0 0 0 0 0 0 0 0 0 0 1 1 0]\n",
            "y_train_test:[1 1 0 0 0 0 0 0 0 0 0 0 0 0 0 1 1 0]\n",
            "test acc: 0.75\n",
            "y_test:[0 0 0 0 0 1 1 1]\n",
            "y_pred_test:[0 1 0 0 0 1 0 1]\n"
          ]
        }
      ]
    },
    {
      "cell_type": "code",
      "source": [
        "# Tu turno...# modelo final\n",
        "from sklearn.linear_model import LogisticRegression\n",
        "from sklearn.preprocessing import PolynomialFeatures\n",
        "from sklearn.pipeline import Pipeline, make_pipeline\n",
        "from sklearn.metrics import accuracy_score\n",
        "from sklearn.preprocessing import StandardScaler\n",
        "final_degree = 3\n",
        "final_pipeline_reg = make_pipeline(\n",
        "    # PolynomialFeatures(degree=final_degree),\n",
        "    # StandardScaler(),\n",
        "    LogisticRegression(\n",
        "        max_iter=100, penalty='l2'        # ,penalty=None\n",
        "        , C=0.001\n",
        "        # ,C=1\n",
        "    )\n",
        ")\n",
        "\n",
        "final_pipeline_reg.fit(X_train,y_train)\n",
        "\n",
        "predict_final_pipe = final_pipeline_reg.predict(X_test)\n",
        "accuracy_score(predict_final_pipe, y_test)\n"
      ],
      "metadata": {
        "colab": {
          "base_uri": "https://localhost:8080/",
          "height": 35
        },
        "id": "aWOl6KwOlxI-",
        "outputId": "a3c305e6-efa0-467d-9735-ed742dfc3326"
      },
      "execution_count": 154,
      "outputs": [
        {
          "output_type": "execute_result",
          "data": {
            "text/plain": [
              "0.625"
            ]
          },
          "metadata": {},
          "execution_count": 154
        }
      ]
    },
    {
      "cell_type": "code",
      "source": [
        "# plot_regions(final_pipeline_reg,X_train,y_train)"
      ],
      "metadata": {
        "id": "w7mMAbUQmh5g"
      },
      "execution_count": 155,
      "outputs": []
    },
    {
      "cell_type": "code",
      "source": [
        "import numpy as np\n",
        "import matplotlib.pyplot as plt\n",
        "import sklearn\n",
        "\n",
        "\n",
        "def plot_regions(classifier, x, t):\n",
        "    \"\"\"Plot results from classification.\"\"\"\n",
        "    plt.figure(figsize=(9, 7))\n",
        "\n",
        "    xx, yy = np.meshgrid(np.linspace(x[:, 0].min()-1, x[:, 0].max()+1, 200),\n",
        "                         np.linspace(x[:, 1].min()-1, x[:, 1].max()+1, 200))\n",
        "\n",
        "    # evaluate decision function\n",
        "    Z = classifier.decision_function(np.c_[xx.ravel(), yy.ravel()])\n",
        "    Z = Z.reshape(xx.shape)\n",
        "    # colour regions\n",
        "    plt.pcolormesh(xx, yy, Z < 0, cmap=plt.cm.bwr, shading='auto', alpha=0.4)\n",
        "    # decision boundary\n",
        "    plt.contour(xx, yy, 1/(1 + np.exp(-Z)),\n",
        "                [0.05, 0.5, 0.95], colors=['0.5', 'k', '0.5'], zorder=1)\n",
        "\n",
        "    xc1 = x[t == np.unique(t.flatten()).max()]\n",
        "    xc2 = x[t == np.unique(t.flatten()).min()]\n",
        "\n",
        "    plt.plot(*xc1.T, 'ob', mfc='None', label='C1')\n",
        "    plt.plot(*xc2.T, 'or', mfc='None', label='C2')\n",
        "\n",
        "    # Remove ticks\n",
        "    plt.xticks(())\n",
        "    plt.yticks(())\n",
        "    plt.axis('tight')\n",
        "\n",
        "    return"
      ],
      "metadata": {
        "id": "T18pnWC8neZT"
      },
      "execution_count": 156,
      "outputs": []
    },
    {
      "cell_type": "code",
      "source": [
        "clf = MLPClassifier(solver='lbfgs', alpha=1e-5, random_state=20)\n",
        "\n",
        "# Define parameter grid for grid search\n",
        "# param_grid = {'hidden_layer_sizes': [(10,), (50,), (100,), (10,10), (50,50), (100,100)]}\n",
        "param_grid = {\n",
        "    'hidden_layer_sizes': [\n",
        "        (5,), (10,), (20,), (50,), (100,),\n",
        "        (5,5), (10,10), (20,20), (50,50), (100,100),\n",
        "        (5,5,5), (10,10,10), (20,20,20), (50,50,50), (100,100,100),\n",
        "        (5,10), (10,20), (20,50), (50,100),\n",
        "        (5,10,5), (10,20,10), (20,50,20), (50,100,50)\n",
        "    ]\n",
        "}\n",
        "# Perform grid search\n",
        "grid_search = GridSearchCV(clf, param_grid=param_grid, cv=5)\n",
        "grid_search.fit(X_test, y_test)\n",
        "\n",
        "# Print best parameter and accuracy score\n",
        "print(\"Best hidden layer sizes:\", grid_search.best_params_['hidden_layer_sizes'])\n",
        "print(\"Best accuracy score:\", grid_search.best_score_)"
      ],
      "metadata": {
        "colab": {
          "base_uri": "https://localhost:8080/"
        },
        "id": "76wv84JAnesc",
        "outputId": "1199aee5-beec-4346-95d0-e62d72f6cf01"
      },
      "execution_count": null,
      "outputs": [
        {
          "output_type": "stream",
          "name": "stderr",
          "text": [
            "/usr/local/lib/python3.9/dist-packages/sklearn/model_selection/_split.py:700: UserWarning: The least populated class in y has only 3 members, which is less than n_splits=5.\n",
            "  warnings.warn(\n"
          ]
        }
      ]
    },
    {
      "cell_type": "code",
      "source": [],
      "metadata": {
        "id": "KoHKX7RkqUJp"
      },
      "execution_count": null,
      "outputs": []
    }
  ],
  "metadata": {
    "kernelspec": {
      "display_name": "Python 3",
      "language": "python",
      "name": "python3"
    },
    "language_info": {
      "codemirror_mode": {
        "name": "ipython",
        "version": 3
      },
      "file_extension": ".py",
      "mimetype": "text/x-python",
      "name": "python",
      "nbconvert_exporter": "python",
      "pygments_lexer": "ipython3",
      "version": "3.6.6"
    },
    "colab": {
      "provenance": [],
      "toc_visible": true
    }
  },
  "nbformat": 4,
  "nbformat_minor": 0
}